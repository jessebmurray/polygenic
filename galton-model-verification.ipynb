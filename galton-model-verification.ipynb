{
 "cells": [
  {
   "cell_type": "markdown",
   "metadata": {},
   "source": [
    "# Applying a Markov chain model to Galton's height data"
   ]
  },
  {
   "cell_type": "markdown",
   "metadata": {},
   "source": [
    "## Markov chain model"
   ]
  },
  {
   "cell_type": "markdown",
   "metadata": {},
   "source": [
    "#### Initial conditions and transitions\n",
    "\n",
    "The Markov chain exists in discrete time $\\{0, 1, 2,...\\}$, representing generations; and continuous space $\\mathbb{R}$, representing polygenic scores.\n",
    "\n",
    "\n",
    "Let all $Z$ be independent and identically distributed (i.i.d.) as $\\mathcal{N}(0, 1)$.\n",
    "\n",
    "Define the initial condition:\n",
    "\n",
    "$X_0 = \\sigma_0 Z$\n",
    "\n",
    "Define the one-step relationship between past and present states:\n",
    "\n",
    "$X_n = \\tilde{\\mu}_n + \\epsilon$\n",
    "\n",
    "Such that:\n",
    "\n",
    "$\\tilde{\\mu}_n = rX_{n-1}$\n",
    "\n",
    "$\\epsilon = \\tilde{\\sigma}_n Z$\n",
    "\n",
    "$\\tilde{\\sigma}_n = r_s \\sigma_{n-1}$\n",
    "\n",
    "Rewriting the relationship:\n",
    "\n",
    "$X_n = rX_{n-1} + r_s \\sigma_{n-1}Z$"
   ]
  },
  {
   "cell_type": "markdown",
   "metadata": {},
   "source": [
    "#### The random state for any generation $n$. \n",
    "\n",
    "It can be shown by induction and the theorem of the sum of independent normal distributions that:\n",
    "\n",
    "$X_n = \\sigma_n Z$\n",
    "\n",
    "Additionally, for $n > 0$ and $Z_a$, $Z_b$ independent:\n",
    "\n",
    "\n",
    "$X_n = r\\sigma_{n-1}Z_a + r_s\\sigma_{n-1}Z_b$"
   ]
  },
  {
   "cell_type": "markdown",
   "metadata": {},
   "source": [
    "#### The variance for any generation $n$.\n",
    "\n",
    "It follows immediately that $\\sigma_n^2$ has the following one-step relationship:\n",
    "\n",
    "$\\sigma_n^2 = \\sigma_{n-1}^2(r^2+r_s^2)$\n",
    "\n",
    "By induction, $\\sigma_n^2$ can also be stated in terms of the initial variance:\n",
    "\n",
    "$\\sigma_n^2 = \\sigma_{0}^2(r^2+r_s^2)^n$"
   ]
  },
  {
   "cell_type": "markdown",
   "metadata": {},
   "source": [
    "#### Properties\n",
    "\n",
    "$X_n|X_{n-1} \\sim \\mathcal{N}(\\tilde{\\mu}_n, \\tilde{\\sigma}_n^2)$\n",
    "\n",
    "\n",
    "$\\mathrm{Cov}(X_n, X_{n-1}) = r \\sigma_{n-1}^2$\n",
    "\n",
    "$\\mathrm{Corr}(X_n, X_{n-1}) = r \\frac{\\sigma_{n-1}}{\\sigma_n}$\n",
    "\n"
   ]
  },
  {
   "cell_type": "markdown",
   "metadata": {},
   "source": [
    "#### Stable population variance\n",
    "\n",
    "Let a stable population variance be defined as follows:\n",
    "\n",
    "$\\sigma_n^2 = \\sigma_{n-1}^2$\n",
    "\n",
    "The following are a few important properties that occur under stable population variance:\n",
    "\n",
    "$r^2+r_s^2 = 1$\n",
    "\n",
    "$\\mathrm{Corr}(X_n, X_{n-1}) = r$\n",
    "\n",
    "For an aribrary state $i$:\n",
    "\n",
    "$\\sigma_i^2 = \\sigma_{0}^2$ "
   ]
  },
  {
   "cell_type": "markdown",
   "metadata": {},
   "source": [
    "### Load and prepare data"
   ]
  },
  {
   "cell_type": "code",
   "execution_count": 1,
   "metadata": {},
   "outputs": [],
   "source": [
    "import pandas as pd\n",
    "import numpy as np\n",
    "import scipy.stats as stats\n",
    "import statsmodels.api as sm \n",
    "import matplotlib.pyplot as plt\n",
    "import pylab"
   ]
  },
  {
   "cell_type": "code",
   "execution_count": 2,
   "metadata": {},
   "outputs": [],
   "source": [
    "df = pd.read_csv('galton_height.csv')"
   ]
  },
  {
   "cell_type": "code",
   "execution_count": 4,
   "metadata": {},
   "outputs": [
    {
     "data": {
      "text/html": [
       "<div>\n",
       "<style scoped>\n",
       "    .dataframe tbody tr th:only-of-type {\n",
       "        vertical-align: middle;\n",
       "    }\n",
       "\n",
       "    .dataframe tbody tr th {\n",
       "        vertical-align: top;\n",
       "    }\n",
       "\n",
       "    .dataframe thead th {\n",
       "        text-align: right;\n",
       "    }\n",
       "</style>\n",
       "<table border=\"1\" class=\"dataframe\">\n",
       "  <thead>\n",
       "    <tr style=\"text-align: right;\">\n",
       "      <th></th>\n",
       "      <th>Family</th>\n",
       "      <th>Father</th>\n",
       "      <th>Mother</th>\n",
       "      <th>Gender</th>\n",
       "      <th>Height</th>\n",
       "      <th>Kids</th>\n",
       "    </tr>\n",
       "  </thead>\n",
       "  <tbody>\n",
       "    <tr>\n",
       "      <th>0</th>\n",
       "      <td>1</td>\n",
       "      <td>78.5</td>\n",
       "      <td>67.0</td>\n",
       "      <td>M</td>\n",
       "      <td>73.2</td>\n",
       "      <td>4</td>\n",
       "    </tr>\n",
       "    <tr>\n",
       "      <th>1</th>\n",
       "      <td>1</td>\n",
       "      <td>78.5</td>\n",
       "      <td>67.0</td>\n",
       "      <td>F</td>\n",
       "      <td>69.2</td>\n",
       "      <td>4</td>\n",
       "    </tr>\n",
       "    <tr>\n",
       "      <th>2</th>\n",
       "      <td>1</td>\n",
       "      <td>78.5</td>\n",
       "      <td>67.0</td>\n",
       "      <td>F</td>\n",
       "      <td>69.0</td>\n",
       "      <td>4</td>\n",
       "    </tr>\n",
       "    <tr>\n",
       "      <th>3</th>\n",
       "      <td>1</td>\n",
       "      <td>78.5</td>\n",
       "      <td>67.0</td>\n",
       "      <td>F</td>\n",
       "      <td>69.0</td>\n",
       "      <td>4</td>\n",
       "    </tr>\n",
       "    <tr>\n",
       "      <th>4</th>\n",
       "      <td>2</td>\n",
       "      <td>75.5</td>\n",
       "      <td>66.5</td>\n",
       "      <td>M</td>\n",
       "      <td>73.5</td>\n",
       "      <td>4</td>\n",
       "    </tr>\n",
       "    <tr>\n",
       "      <th>...</th>\n",
       "      <td>...</td>\n",
       "      <td>...</td>\n",
       "      <td>...</td>\n",
       "      <td>...</td>\n",
       "      <td>...</td>\n",
       "      <td>...</td>\n",
       "    </tr>\n",
       "    <tr>\n",
       "      <th>893</th>\n",
       "      <td>136A</td>\n",
       "      <td>68.5</td>\n",
       "      <td>65.0</td>\n",
       "      <td>M</td>\n",
       "      <td>68.5</td>\n",
       "      <td>8</td>\n",
       "    </tr>\n",
       "    <tr>\n",
       "      <th>894</th>\n",
       "      <td>136A</td>\n",
       "      <td>68.5</td>\n",
       "      <td>65.0</td>\n",
       "      <td>M</td>\n",
       "      <td>67.7</td>\n",
       "      <td>8</td>\n",
       "    </tr>\n",
       "    <tr>\n",
       "      <th>895</th>\n",
       "      <td>136A</td>\n",
       "      <td>68.5</td>\n",
       "      <td>65.0</td>\n",
       "      <td>F</td>\n",
       "      <td>64.0</td>\n",
       "      <td>8</td>\n",
       "    </tr>\n",
       "    <tr>\n",
       "      <th>896</th>\n",
       "      <td>136A</td>\n",
       "      <td>68.5</td>\n",
       "      <td>65.0</td>\n",
       "      <td>F</td>\n",
       "      <td>63.5</td>\n",
       "      <td>8</td>\n",
       "    </tr>\n",
       "    <tr>\n",
       "      <th>897</th>\n",
       "      <td>136A</td>\n",
       "      <td>68.5</td>\n",
       "      <td>65.0</td>\n",
       "      <td>F</td>\n",
       "      <td>63.0</td>\n",
       "      <td>8</td>\n",
       "    </tr>\n",
       "  </tbody>\n",
       "</table>\n",
       "<p>898 rows × 6 columns</p>\n",
       "</div>"
      ],
      "text/plain": [
       "    Family  Father  Mother Gender  Height  Kids\n",
       "0        1    78.5    67.0      M    73.2     4\n",
       "1        1    78.5    67.0      F    69.2     4\n",
       "2        1    78.5    67.0      F    69.0     4\n",
       "3        1    78.5    67.0      F    69.0     4\n",
       "4        2    75.5    66.5      M    73.5     4\n",
       "..     ...     ...     ...    ...     ...   ...\n",
       "893   136A    68.5    65.0      M    68.5     8\n",
       "894   136A    68.5    65.0      M    67.7     8\n",
       "895   136A    68.5    65.0      F    64.0     8\n",
       "896   136A    68.5    65.0      F    63.5     8\n",
       "897   136A    68.5    65.0      F    63.0     8\n",
       "\n",
       "[898 rows x 6 columns]"
      ]
     },
     "execution_count": 4,
     "metadata": {},
     "output_type": "execute_result"
    }
   ],
   "source": [
    "df"
   ]
  },
  {
   "cell_type": "code",
   "execution_count": 114,
   "metadata": {},
   "outputs": [
    {
     "name": "stdout",
     "output_type": "stream",
     "text": [
      "2.4702558107108183\n",
      "2.307025221001852\n"
     ]
    }
   ],
   "source": [
    "# Standard deviations of the father and mother heights\n",
    "\n",
    "print(df.Father.std())\n",
    "print(df.Mother.std())"
   ]
  },
  {
   "cell_type": "code",
   "execution_count": 116,
   "metadata": {},
   "outputs": [
    {
     "name": "stdout",
     "output_type": "stream",
     "text": [
      "2.631594282686617\n",
      "2.37031960294407\n"
     ]
    }
   ],
   "source": [
    "# Standard deviations of the male and female adult children heights\n",
    "\n",
    "print(df.loc[df.Gender == 'M'].Height.std())\n",
    "print(df.loc[df.Gender == 'F'].Height.std())"
   ]
  },
  {
   "cell_type": "markdown",
   "metadata": {},
   "source": [
    "#### Separate samples by gender\n",
    "\n",
    "That is, treat the father-son data separately from the mother-daughter data. There are ways to combine male and female heights, e.g. Tanner's method, but here we will simply separate them."
   ]
  },
  {
   "cell_type": "code",
   "execution_count": 101,
   "metadata": {},
   "outputs": [],
   "source": [
    "# Let the suffixes `b` and `g` represent boy and girl \n",
    "# (Male and female gets confused with mother and father)\n",
    "\n",
    "dfb = df.loc[df.Gender == 'M'][['Father', 'Height']]\n",
    "dfg = df.loc[df.Gender == 'F'][['Mother', 'Height']]"
   ]
  },
  {
   "cell_type": "markdown",
   "metadata": {},
   "source": [
    "#### Standardize to the parent distribution"
   ]
  },
  {
   "cell_type": "code",
   "execution_count": 16,
   "metadata": {},
   "outputs": [],
   "source": [
    "# Let the suffix `s` indicate 'standardized'\n",
    "\n",
    "# We also standardize the adult children to the expecation and variance of the parents\n",
    "\n",
    "dfbs = (dfb - dfb.Father.mean()) / dfb.Father.std()\n",
    "dfgs = (dfg - dfg.Mother.mean()) / dfg.Mother.std()"
   ]
  },
  {
   "cell_type": "markdown",
   "metadata": {},
   "source": [
    "# Verify the Markov chain model in the one-step Galton data"
   ]
  },
  {
   "cell_type": "markdown",
   "metadata": {},
   "source": [
    "### Verify normality of mother and father distributions\n",
    "\n",
    "We would like to verify the initial condition for both the father and mother populations:\n",
    "\n",
    "$X_0 = \\sigma_0 Z$"
   ]
  },
  {
   "cell_type": "code",
   "execution_count": 163,
   "metadata": {},
   "outputs": [
    {
     "data": {
      "image/png": "[encoded data removed]",
      "text/plain": [
       "<Figure size 432x288 with 1 Axes>"
      ]
     },
     "metadata": {
      "needs_background": "light"
     },
     "output_type": "display_data"
    }
   ],
   "source": [
    "plt.hist(dfbs.Father, alpha=0.5, bins=15, density=True)\n",
    "plt.hist(dfgs.Mother, alpha=0.5, bins=15, density=True);"
   ]
  },
  {
   "cell_type": "code",
   "execution_count": 70,
   "metadata": {
    "scrolled": true
   },
   "outputs": [
    {
     "data": {
      "image/png": "[encoded data removed]",
      "text/plain": [
       "<Figure size 432x288 with 1 Axes>"
      ]
     },
     "metadata": {
      "needs_background": "light"
     },
     "output_type": "display_data"
    }
   ],
   "source": [
    "stats.probplot(dfbs.Father, dist=\"norm\", fit=False, plot=pylab);"
   ]
  },
  {
   "cell_type": "code",
   "execution_count": 18,
   "metadata": {},
   "outputs": [
    {
     "data": {
      "image/png": "[encoded data removed]",
      "text/plain": [
       "<Figure size 432x288 with 1 Axes>"
      ]
     },
     "metadata": {
      "needs_background": "light"
     },
     "output_type": "display_data"
    }
   ],
   "source": [
    "sm.qqplot(dfbs.Father, line ='45');"
   ]
  },
  {
   "cell_type": "code",
   "execution_count": 71,
   "metadata": {},
   "outputs": [
    {
     "data": {
      "image/png": "[encoded data removed]",
      "text/plain": [
       "<Figure size 432x288 with 1 Axes>"
      ]
     },
     "metadata": {
      "needs_background": "light"
     },
     "output_type": "display_data"
    }
   ],
   "source": [
    "stats.probplot(dfgs.Mother, dist=\"norm\", fit=False, plot=pylab);"
   ]
  },
  {
   "cell_type": "code",
   "execution_count": 22,
   "metadata": {},
   "outputs": [
    {
     "data": {
      "image/png": "[encoded data removed]",
      "text/plain": [
       "<Figure size 432x288 with 1 Axes>"
      ]
     },
     "metadata": {
      "needs_background": "light"
     },
     "output_type": "display_data"
    }
   ],
   "source": [
    "sm.qqplot(dfgs.Mother, line ='45');"
   ]
  },
  {
   "cell_type": "markdown",
   "metadata": {},
   "source": [
    "Normality assumption looks alright."
   ]
  },
  {
   "cell_type": "markdown",
   "metadata": {},
   "source": [
    "### Verify the expectation of $X_{n}$"
   ]
  },
  {
   "cell_type": "markdown",
   "metadata": {},
   "source": [
    "We would like to verify that:\n",
    "    \n",
    "$\\mathrm{E}(X_n) = 0$"
   ]
  },
  {
   "cell_type": "code",
   "execution_count": 85,
   "metadata": {},
   "outputs": [
    {
     "data": {
      "text/plain": [
       "0.0263682727955682"
      ]
     },
     "execution_count": 85,
     "metadata": {},
     "output_type": "execute_result"
    }
   ],
   "source": [
    "dfbs.Height.mean()"
   ]
  },
  {
   "cell_type": "code",
   "execution_count": 86,
   "metadata": {},
   "outputs": [
    {
     "data": {
      "text/plain": [
       "-0.02606626673986234"
      ]
     },
     "execution_count": 86,
     "metadata": {},
     "output_type": "execute_result"
    }
   ],
   "source": [
    "dfgs.Height.mean()"
   ]
  },
  {
   "cell_type": "markdown",
   "metadata": {},
   "source": [
    "The expecation of the adult-children heights are both within 0.03 parent-population standard deviations from zero. "
   ]
  },
  {
   "cell_type": "markdown",
   "metadata": {},
   "source": [
    "### Estimate expectation regression coefficient $r$\n",
    "\n",
    "\n",
    "$\\mathrm{E}(X_n|X_{n-1}) = rX_{n-1}$\n",
    "\n",
    "$X_n = rX_{n-1} + \\epsilon$\n",
    "\n",
    "\n",
    "This has the same form as the linear regression model where $b$ can be estimated by minimising the sum of the squared errors.\n",
    "\n",
    "$\\mathrm{E}(Y|X) = bX$\n",
    "\n",
    "$Y = bX + \\epsilon$\n",
    "\n",
    "This means we can estimate $r$ through the least-squares approach. \n"
   ]
  },
  {
   "cell_type": "markdown",
   "metadata": {},
   "source": [
    "#### Show scatterplots of linear relationship"
   ]
  },
  {
   "cell_type": "code",
   "execution_count": 110,
   "metadata": {},
   "outputs": [
    {
     "name": "stdout",
     "output_type": "stream",
     "text": [
      "(465, 2)\n"
     ]
    },
    {
     "data": {
      "image/png": "[encoded data removed]",
      "text/plain": [
       "<Figure size 432x288 with 1 Axes>"
      ]
     },
     "metadata": {
      "needs_background": "light"
     },
     "output_type": "display_data"
    }
   ],
   "source": [
    "plt.scatter(dfbs.Father, dfbs.Height);\n",
    "print(dfbs.shape)"
   ]
  },
  {
   "cell_type": "code",
   "execution_count": 111,
   "metadata": {},
   "outputs": [
    {
     "name": "stdout",
     "output_type": "stream",
     "text": [
      "(433, 2)\n"
     ]
    },
    {
     "data": {
      "image/png": "[encoded data removed]",
      "text/plain": [
       "<Figure size 432x288 with 1 Axes>"
      ]
     },
     "metadata": {
      "needs_background": "light"
     },
     "output_type": "display_data"
    }
   ],
   "source": [
    "plt.scatter(dfgs.Mother, dfgs.Height);\n",
    "print(dfgs.shape)"
   ]
  },
  {
   "cell_type": "markdown",
   "metadata": {},
   "source": [
    "#### Estimate $r$ from ordinary least squares"
   ]
  },
  {
   "cell_type": "code",
   "execution_count": 28,
   "metadata": {},
   "outputs": [],
   "source": [
    "from sklearn.linear_model import LinearRegression"
   ]
  },
  {
   "cell_type": "code",
   "execution_count": 190,
   "metadata": {
    "scrolled": true
   },
   "outputs": [
    {
     "name": "stdout",
     "output_type": "stream",
     "text": [
      "Least squares estimate of r for father-sons:\n",
      "0.4477479176030256\n"
     ]
    }
   ],
   "source": [
    "# `fit_intercept=False` means we assume E(X_n) = 0 as shown above\n",
    "\n",
    "lmb = LinearRegression(fit_intercept=False)\n",
    "lmb.fit(dfbs.Father.to_numpy().reshape(-1, 1), \n",
    "       dfbs.Height.to_numpy())\n",
    "\n",
    "print('Least squares estimate of r for father-sons:', lmb.coef_[0], sep='\\n')"
   ]
  },
  {
   "cell_type": "code",
   "execution_count": 191,
   "metadata": {},
   "outputs": [
    {
     "name": "stdout",
     "output_type": "stream",
     "text": [
      "Least squares estimate of r for mother-daughters:\n",
      "0.32655230653888556\n"
     ]
    }
   ],
   "source": [
    "lmg = LinearRegression(fit_intercept=False)\n",
    "lmg.fit(dfgs.Mother.to_numpy().reshape(-1, 1), \n",
    "       dfgs.Height.to_numpy())\n",
    "\n",
    "print('Least squares estimate of r for mother-daughters:', lmg.coef_[0], sep='\\n')"
   ]
  },
  {
   "cell_type": "code",
   "execution_count": 194,
   "metadata": {},
   "outputs": [
    {
     "name": "stdout",
     "output_type": "stream",
     "text": [
      "0.3906367327317112\n",
      "(0.3913173581417901, 1.8240160816397863e-18)\n"
     ]
    }
   ],
   "source": [
    "# Get the correlation coefficient in two ways\n",
    "\n",
    "print(np.sqrt(lmb.score(dfbs.Father.to_numpy().reshape(-1, 1), \n",
    "       dfbs.Height.to_numpy())))\n",
    "\n",
    "print(stats.pearsonr(dfbs.Father, dfbs.Height))"
   ]
  },
  {
   "cell_type": "code",
   "execution_count": 195,
   "metadata": {},
   "outputs": [
    {
     "name": "stdout",
     "output_type": "stream",
     "text": [
      "0.31269504705987256\n",
      "(0.313698353531347, 2.4209888639419706e-11)\n"
     ]
    }
   ],
   "source": [
    "print(np.sqrt(lmg.score(dfgs.Mother.to_numpy().reshape(-1, 1), \n",
    "       dfgs.Height.to_numpy())))\n",
    "\n",
    "print(stats.pearsonr(dfgs.Mother, dfgs.Height))"
   ]
  },
  {
   "cell_type": "markdown",
   "metadata": {},
   "source": [
    "#### Estimate $r$ from model\n",
    "\n",
    "$\\mathrm{Cov}(X_n, X_{n-1}) = r \\sigma_{n-1}^2$\n",
    "\n",
    "$\\mathrm{Corr}(X_n, X_{n-1}) = r \\frac{\\sigma_{n-1}}{\\sigma_n}$\n",
    "\n"
   ]
  },
  {
   "cell_type": "code",
   "execution_count": 173,
   "metadata": {},
   "outputs": [],
   "source": [
    "rb = (np.cov(dfbs.Father, dfbs.Height) / dfbs.Father.var())[0][1]"
   ]
  },
  {
   "cell_type": "code",
   "execution_count": 174,
   "metadata": {},
   "outputs": [],
   "source": [
    "rg = (np.cov(dfgs.Mother, dfgs.Height) / dfgs.Mother.var())[0][1]"
   ]
  },
  {
   "cell_type": "code",
   "execution_count": 176,
   "metadata": {},
   "outputs": [
    {
     "name": "stdout",
     "output_type": "stream",
     "text": [
      "0.44774791760302557\n",
      "0.3265523065388858\n"
     ]
    }
   ],
   "source": [
    "print(rb)\n",
    "print(rg)"
   ]
  },
  {
   "cell_type": "markdown",
   "metadata": {},
   "source": [
    "### Verify normality of $\\epsilon$"
   ]
  },
  {
   "cell_type": "markdown",
   "metadata": {},
   "source": [
    "We would like to verify: \n",
    "\n",
    "$\\epsilon = r_s \\sigma_{n-1}Z$\n",
    "\n",
    "\n",
    "Recall that the Father and Mother samples were the 0th generation, and were standardized to have expectation 0 and variance 1.\n",
    "\n",
    "$\\sigma_{n-1} = \\sigma_0 = 1$\n",
    "\n",
    "Then we need to verify:\n",
    "\n",
    "$\\epsilon = r_s Z$"
   ]
  },
  {
   "cell_type": "code",
   "execution_count": 164,
   "metadata": {},
   "outputs": [
    {
     "data": {
      "image/png": "[encoded data removed]",
      "text/plain": [
       "<Figure size 432x288 with 1 Axes>"
      ]
     },
     "metadata": {
      "needs_background": "light"
     },
     "output_type": "display_data"
    }
   ],
   "source": [
    "plt.hist(eb, alpha=0.5, bins=30, density=True)\n",
    "plt.hist(eg, alpha=0.5, bins=30, density=True);"
   ]
  },
  {
   "cell_type": "code",
   "execution_count": 144,
   "metadata": {
    "scrolled": true
   },
   "outputs": [
    {
     "data": {
      "image/png": "[encoded data removed]",
      "text/plain": [
       "<Figure size 432x288 with 1 Axes>"
      ]
     },
     "metadata": {
      "needs_background": "light"
     },
     "output_type": "display_data"
    }
   ],
   "source": [
    "stats.probplot(eb, dist=\"norm\", fit=False, plot=pylab);"
   ]
  },
  {
   "cell_type": "code",
   "execution_count": 145,
   "metadata": {},
   "outputs": [
    {
     "data": {
      "image/png": "[encoded data removed]",
      "text/plain": [
       "<Figure size 432x288 with 1 Axes>"
      ]
     },
     "metadata": {
      "needs_background": "light"
     },
     "output_type": "display_data"
    }
   ],
   "source": [
    "sm.qqplot(eb, line ='45');"
   ]
  },
  {
   "cell_type": "code",
   "execution_count": 146,
   "metadata": {},
   "outputs": [
    {
     "data": {
      "image/png": "[encoded data removed]",
      "text/plain": [
       "<Figure size 432x288 with 1 Axes>"
      ]
     },
     "metadata": {
      "needs_background": "light"
     },
     "output_type": "display_data"
    }
   ],
   "source": [
    "stats.probplot(eg, dist=\"norm\", fit=False, plot=pylab);"
   ]
  },
  {
   "cell_type": "code",
   "execution_count": 147,
   "metadata": {},
   "outputs": [
    {
     "data": {
      "image/png": "[encoded data removed]",
      "text/plain": [
       "<Figure size 432x288 with 1 Axes>"
      ]
     },
     "metadata": {
      "needs_background": "light"
     },
     "output_type": "display_data"
    }
   ],
   "source": [
    "sm.qqplot(eg, line ='45');"
   ]
  },
  {
   "cell_type": "markdown",
   "metadata": {},
   "source": [
    "Normality assumption looks alright other than a few outliers."
   ]
  },
  {
   "cell_type": "markdown",
   "metadata": {},
   "source": [
    "### Verify the expectation of $\\epsilon$\n",
    "\n",
    "For the Markov model:\n",
    "\n",
    "$\\epsilon = X_n - rX_{n-1} $\n",
    "\n",
    "In linear regression:\n",
    "\n",
    "$\\epsilon = Y - bX$\n",
    "\n",
    "\n",
    "$\\mathrm{E}(\\epsilon) = 0 $"
   ]
  },
  {
   "cell_type": "code",
   "execution_count": 97,
   "metadata": {},
   "outputs": [
    {
     "name": "stdout",
     "output_type": "stream",
     "text": [
      "0.026368272795568883\n"
     ]
    }
   ],
   "source": [
    "# Let `e` indicate epsilon with the same suffix convention as earlier\n",
    "\n",
    "eb = (dfbs.Height - rb*dfbs.Father).to_numpy()\n",
    "\n",
    "print(eb.mean())"
   ]
  },
  {
   "cell_type": "code",
   "execution_count": 98,
   "metadata": {},
   "outputs": [
    {
     "name": "stdout",
     "output_type": "stream",
     "text": [
      "-0.026066266739861847\n"
     ]
    }
   ],
   "source": [
    "eg = (dfgs.Height - rb*dfgs.Mother).to_numpy()\n",
    "\n",
    "print(eg.mean())"
   ]
  },
  {
   "cell_type": "markdown",
   "metadata": {},
   "source": [
    "The expecation of the adult-children residuals are both within 0.03 parent-population standard deviations from zero. "
   ]
  },
  {
   "cell_type": "markdown",
   "metadata": {},
   "source": [
    "### Estimate standard deviation regression coefficient $r_s$\n",
    "\n",
    "Because $\\sigma_0 = 1$ and we have verified that $\\epsilon = r_s Z$, we have:\n",
    "\n",
    "$r_s = \\sqrt{\\mathrm{Var}(\\epsilon)}$"
   ]
  },
  {
   "cell_type": "code",
   "execution_count": 177,
   "metadata": {},
   "outputs": [],
   "source": [
    "rsb = eb.std()\n",
    "rsg = eg.std()"
   ]
  },
  {
   "cell_type": "code",
   "execution_count": 179,
   "metadata": {},
   "outputs": [
    {
     "name": "stdout",
     "output_type": "stream",
     "text": [
      "1.0518299573018388\n",
      "0.9946817283983411\n"
     ]
    }
   ],
   "source": [
    "print(rsb)\n",
    "print(rsg)"
   ]
  },
  {
   "cell_type": "markdown",
   "metadata": {},
   "source": [
    "### Verify relation betwen $\\sigma_n^2$ and $\\sigma_{n-1}^2$\n",
    "\n",
    "Under the model:\n",
    "\n",
    "$\\sigma_n^2 = \\sigma_{n-1}^2(r^2+r_s^2)$\n",
    "\n",
    "Because of standardization, $\\sigma_0 = 1$, then:\n",
    "\n",
    "$\\sigma_1 = \\sqrt{r^2+r_s^2}$"
   ]
  },
  {
   "cell_type": "code",
   "execution_count": 185,
   "metadata": {},
   "outputs": [
    {
     "name": "stdout",
     "output_type": "stream",
     "text": [
      "1.143164230019219\n",
      "1.1442066350677667\n"
     ]
    }
   ],
   "source": [
    "print(np.sqrt(rb**2 + rsb**2))\n",
    "print(dfbs.Height.std())"
   ]
  },
  {
   "cell_type": "code",
   "execution_count": 186,
   "metadata": {},
   "outputs": [
    {
     "name": "stdout",
     "output_type": "stream",
     "text": [
      "1.046913630494597\n",
      "1.0409755195168848\n"
     ]
    }
   ],
   "source": [
    "print(np.sqrt(rg**2 + rsg**2))\n",
    "print(dfgs.Height.std())"
   ]
  },
  {
   "cell_type": "markdown",
   "metadata": {},
   "source": [
    "The result from the model is extremely close to that of the Galton data.\n",
    "\n",
    "In summary, we have verified that the Galton height data for father-son and mother-daughter populations closely adheres to the proposed model. "
   ]
  },
  {
   "cell_type": "code",
   "execution_count": null,
   "metadata": {},
   "outputs": [],
   "source": []
  },
  {
   "cell_type": "code",
   "execution_count": null,
   "metadata": {},
   "outputs": [],
   "source": []
  },
  {
   "cell_type": "code",
   "execution_count": null,
   "metadata": {},
   "outputs": [],
   "source": []
  },
  {
   "cell_type": "code",
   "execution_count": null,
   "metadata": {},
   "outputs": [],
   "source": []
  },
  {
   "cell_type": "code",
   "execution_count": null,
   "metadata": {},
   "outputs": [],
   "source": []
  },
  {
   "cell_type": "code",
   "execution_count": null,
   "metadata": {},
   "outputs": [],
   "source": []
  },
  {
   "cell_type": "code",
   "execution_count": null,
   "metadata": {},
   "outputs": [],
   "source": []
  },
  {
   "cell_type": "markdown",
   "metadata": {},
   "source": [
    "## Miscellaneous"
   ]
  },
  {
   "cell_type": "markdown",
   "metadata": {},
   "source": [
    "### Tanner's method (not used)"
   ]
  },
  {
   "cell_type": "code",
   "execution_count": 4,
   "metadata": {},
   "outputs": [],
   "source": [
    "# k_mother = df.Father.mean() - df.Mother.mean()\n",
    "# print(k_mother)\n",
    "\n",
    "# df['Mother'] += + k_mother"
   ]
  },
  {
   "cell_type": "code",
   "execution_count": 116,
   "metadata": {},
   "outputs": [],
   "source": [
    "# k_daughter = df.loc[df.Gender == 'M'].Height.mean() - df.loc[df.Gender == 'F'].Height.mean()\n",
    "\n",
    "# def normalize_offspring_height(row):\n",
    "#     if row.Gender == 'F':\n",
    "#         return row.Height + k_daughter\n",
    "#     elif row.Gender == 'M':\n",
    "#         return row.Height\n",
    "    \n",
    "    \n",
    "# df.Height = df.apply(normalize_offspring_height, axis=1)"
   ]
  },
  {
   "cell_type": "code",
   "execution_count": null,
   "metadata": {},
   "outputs": [],
   "source": []
  }
 ],
 "metadata": {
  "kernelspec": {
   "display_name": "Python 3",
   "language": "python",
   "name": "python3"
  },
  "language_info": {
   "codemirror_mode": {
    "name": "ipython",
    "version": 3
   },
   "file_extension": ".py",
   "mimetype": "text/x-python",
   "name": "python",
   "nbconvert_exporter": "python",
   "pygments_lexer": "ipython3",
   "version": "3.8.3"
  }
 },
 "nbformat": 4,
 "nbformat_minor": 4
}
