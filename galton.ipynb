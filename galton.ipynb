{
 "cells": [
  {
   "cell_type": "code",
   "execution_count": 9,
   "metadata": {},
   "outputs": [],
   "source": [
    "import pandas as pd\n",
    "import matplotlib.pyplot as plt\n",
    "import seaborn as sns\n",
    "import tree_functions as tree\n",
    "import imp\n",
    "plt.style.use('seaborn')\n",
    "import statistics\n",
    "import numpy as np\n",
    "import scipy.stats as st"
   ]
  },
  {
   "cell_type": "code",
   "execution_count": 10,
   "metadata": {},
   "outputs": [],
   "source": [
    "# plt.style.use('seaborn-talk')"
   ]
  },
  {
   "cell_type": "code",
   "execution_count": 11,
   "metadata": {},
   "outputs": [],
   "source": [
    "galton = pd.read_csv('galton_height.csv')"
   ]
  },
  {
   "cell_type": "code",
   "execution_count": 12,
   "metadata": {},
   "outputs": [
    {
     "data": {
      "text/html": [
       "<div>\n",
       "<style scoped>\n",
       "    .dataframe tbody tr th:only-of-type {\n",
       "        vertical-align: middle;\n",
       "    }\n",
       "\n",
       "    .dataframe tbody tr th {\n",
       "        vertical-align: top;\n",
       "    }\n",
       "\n",
       "    .dataframe thead th {\n",
       "        text-align: right;\n",
       "    }\n",
       "</style>\n",
       "<table border=\"1\" class=\"dataframe\">\n",
       "  <thead>\n",
       "    <tr style=\"text-align: right;\">\n",
       "      <th></th>\n",
       "      <th>Family</th>\n",
       "      <th>Father</th>\n",
       "      <th>Mother</th>\n",
       "      <th>Gender</th>\n",
       "      <th>Height</th>\n",
       "      <th>Kids</th>\n",
       "    </tr>\n",
       "  </thead>\n",
       "  <tbody>\n",
       "    <tr>\n",
       "      <td>0</td>\n",
       "      <td>1</td>\n",
       "      <td>78.5</td>\n",
       "      <td>67.0</td>\n",
       "      <td>M</td>\n",
       "      <td>73.2</td>\n",
       "      <td>4</td>\n",
       "    </tr>\n",
       "    <tr>\n",
       "      <td>1</td>\n",
       "      <td>1</td>\n",
       "      <td>78.5</td>\n",
       "      <td>67.0</td>\n",
       "      <td>F</td>\n",
       "      <td>69.2</td>\n",
       "      <td>4</td>\n",
       "    </tr>\n",
       "    <tr>\n",
       "      <td>2</td>\n",
       "      <td>1</td>\n",
       "      <td>78.5</td>\n",
       "      <td>67.0</td>\n",
       "      <td>F</td>\n",
       "      <td>69.0</td>\n",
       "      <td>4</td>\n",
       "    </tr>\n",
       "    <tr>\n",
       "      <td>3</td>\n",
       "      <td>1</td>\n",
       "      <td>78.5</td>\n",
       "      <td>67.0</td>\n",
       "      <td>F</td>\n",
       "      <td>69.0</td>\n",
       "      <td>4</td>\n",
       "    </tr>\n",
       "    <tr>\n",
       "      <td>4</td>\n",
       "      <td>2</td>\n",
       "      <td>75.5</td>\n",
       "      <td>66.5</td>\n",
       "      <td>M</td>\n",
       "      <td>73.5</td>\n",
       "      <td>4</td>\n",
       "    </tr>\n",
       "    <tr>\n",
       "      <td>...</td>\n",
       "      <td>...</td>\n",
       "      <td>...</td>\n",
       "      <td>...</td>\n",
       "      <td>...</td>\n",
       "      <td>...</td>\n",
       "      <td>...</td>\n",
       "    </tr>\n",
       "    <tr>\n",
       "      <td>893</td>\n",
       "      <td>136A</td>\n",
       "      <td>68.5</td>\n",
       "      <td>65.0</td>\n",
       "      <td>M</td>\n",
       "      <td>68.5</td>\n",
       "      <td>8</td>\n",
       "    </tr>\n",
       "    <tr>\n",
       "      <td>894</td>\n",
       "      <td>136A</td>\n",
       "      <td>68.5</td>\n",
       "      <td>65.0</td>\n",
       "      <td>M</td>\n",
       "      <td>67.7</td>\n",
       "      <td>8</td>\n",
       "    </tr>\n",
       "    <tr>\n",
       "      <td>895</td>\n",
       "      <td>136A</td>\n",
       "      <td>68.5</td>\n",
       "      <td>65.0</td>\n",
       "      <td>F</td>\n",
       "      <td>64.0</td>\n",
       "      <td>8</td>\n",
       "    </tr>\n",
       "    <tr>\n",
       "      <td>896</td>\n",
       "      <td>136A</td>\n",
       "      <td>68.5</td>\n",
       "      <td>65.0</td>\n",
       "      <td>F</td>\n",
       "      <td>63.5</td>\n",
       "      <td>8</td>\n",
       "    </tr>\n",
       "    <tr>\n",
       "      <td>897</td>\n",
       "      <td>136A</td>\n",
       "      <td>68.5</td>\n",
       "      <td>65.0</td>\n",
       "      <td>F</td>\n",
       "      <td>63.0</td>\n",
       "      <td>8</td>\n",
       "    </tr>\n",
       "  </tbody>\n",
       "</table>\n",
       "<p>898 rows × 6 columns</p>\n",
       "</div>"
      ],
      "text/plain": [
       "    Family  Father  Mother Gender  Height  Kids\n",
       "0        1    78.5    67.0      M    73.2     4\n",
       "1        1    78.5    67.0      F    69.2     4\n",
       "2        1    78.5    67.0      F    69.0     4\n",
       "3        1    78.5    67.0      F    69.0     4\n",
       "4        2    75.5    66.5      M    73.5     4\n",
       "..     ...     ...     ...    ...     ...   ...\n",
       "893   136A    68.5    65.0      M    68.5     8\n",
       "894   136A    68.5    65.0      M    67.7     8\n",
       "895   136A    68.5    65.0      F    64.0     8\n",
       "896   136A    68.5    65.0      F    63.5     8\n",
       "897   136A    68.5    65.0      F    63.0     8\n",
       "\n",
       "[898 rows x 6 columns]"
      ]
     },
     "execution_count": 12,
     "metadata": {},
     "output_type": "execute_result"
    }
   ],
   "source": [
    "galton"
   ]
  },
  {
   "cell_type": "code",
   "execution_count": 13,
   "metadata": {},
   "outputs": [
    {
     "data": {
      "text/plain": [
       "<matplotlib.axes._subplots.AxesSubplot at 0x1a175e7510>"
      ]
     },
     "execution_count": 13,
     "metadata": {},
     "output_type": "execute_result"
    },
    {
     "data": {
      "image/png": "[encoded data removed]",
      "text/plain": [
       "<Figure size 576x396 with 1 Axes>"
      ]
     },
     "metadata": {},
     "output_type": "display_data"
    }
   ],
   "source": [
    "sns.regplot(galton.loc[galton.Gender == 'M'].Father, galton.loc[galton.Gender == 'M'].Height)"
   ]
  },
  {
   "cell_type": "code",
   "execution_count": 14,
   "metadata": {},
   "outputs": [
    {
     "data": {
      "text/plain": [
       "0.3913173581417897"
      ]
     },
     "execution_count": 14,
     "metadata": {},
     "output_type": "execute_result"
    }
   ],
   "source": [
    "galton.loc[galton.Gender == 'M'].Father.corr(galton.loc[galton.Gender == 'M'].Height)"
   ]
  },
  {
   "cell_type": "code",
   "execution_count": 15,
   "metadata": {},
   "outputs": [
    {
     "data": {
      "text/plain": [
       "<matplotlib.axes._subplots.AxesSubplot at 0x1a1770ea10>"
      ]
     },
     "execution_count": 15,
     "metadata": {},
     "output_type": "execute_result"
    },
    {
     "data": {
      "image/png": "[encoded data removed]",
      "text/plain": [
       "<Figure size 576x396 with 1 Axes>"
      ]
     },
     "metadata": {},
     "output_type": "display_data"
    }
   ],
   "source": [
    "sns.regplot(galton.loc[galton.Gender == 'F'].Mother, galton.loc[galton.Gender == 'F'].Height)"
   ]
  },
  {
   "cell_type": "code",
   "execution_count": 16,
   "metadata": {},
   "outputs": [
    {
     "data": {
      "text/plain": [
       "0.313698353531348"
      ]
     },
     "execution_count": 16,
     "metadata": {},
     "output_type": "execute_result"
    }
   ],
   "source": [
    "galton.loc[galton.Gender == 'F'].Mother.corr(galton.loc[galton.Gender == 'F'].Height)"
   ]
  },
  {
   "cell_type": "code",
   "execution_count": null,
   "metadata": {},
   "outputs": [],
   "source": []
  },
  {
   "cell_type": "code",
   "execution_count": 17,
   "metadata": {},
   "outputs": [
    {
     "data": {
      "text/html": [
       "<div>\n",
       "<style scoped>\n",
       "    .dataframe tbody tr th:only-of-type {\n",
       "        vertical-align: middle;\n",
       "    }\n",
       "\n",
       "    .dataframe tbody tr th {\n",
       "        vertical-align: top;\n",
       "    }\n",
       "\n",
       "    .dataframe thead th {\n",
       "        text-align: right;\n",
       "    }\n",
       "</style>\n",
       "<table border=\"1\" class=\"dataframe\">\n",
       "  <thead>\n",
       "    <tr style=\"text-align: right;\">\n",
       "      <th></th>\n",
       "      <th>Family</th>\n",
       "      <th>Father</th>\n",
       "      <th>Mother</th>\n",
       "      <th>Gender</th>\n",
       "      <th>Height</th>\n",
       "      <th>Kids</th>\n",
       "    </tr>\n",
       "  </thead>\n",
       "  <tbody>\n",
       "    <tr>\n",
       "      <td>0</td>\n",
       "      <td>1</td>\n",
       "      <td>78.5</td>\n",
       "      <td>67.0</td>\n",
       "      <td>M</td>\n",
       "      <td>73.2</td>\n",
       "      <td>4</td>\n",
       "    </tr>\n",
       "    <tr>\n",
       "      <td>1</td>\n",
       "      <td>1</td>\n",
       "      <td>78.5</td>\n",
       "      <td>67.0</td>\n",
       "      <td>F</td>\n",
       "      <td>69.2</td>\n",
       "      <td>4</td>\n",
       "    </tr>\n",
       "    <tr>\n",
       "      <td>2</td>\n",
       "      <td>1</td>\n",
       "      <td>78.5</td>\n",
       "      <td>67.0</td>\n",
       "      <td>F</td>\n",
       "      <td>69.0</td>\n",
       "      <td>4</td>\n",
       "    </tr>\n",
       "    <tr>\n",
       "      <td>3</td>\n",
       "      <td>1</td>\n",
       "      <td>78.5</td>\n",
       "      <td>67.0</td>\n",
       "      <td>F</td>\n",
       "      <td>69.0</td>\n",
       "      <td>4</td>\n",
       "    </tr>\n",
       "    <tr>\n",
       "      <td>4</td>\n",
       "      <td>2</td>\n",
       "      <td>75.5</td>\n",
       "      <td>66.5</td>\n",
       "      <td>M</td>\n",
       "      <td>73.5</td>\n",
       "      <td>4</td>\n",
       "    </tr>\n",
       "    <tr>\n",
       "      <td>...</td>\n",
       "      <td>...</td>\n",
       "      <td>...</td>\n",
       "      <td>...</td>\n",
       "      <td>...</td>\n",
       "      <td>...</td>\n",
       "      <td>...</td>\n",
       "    </tr>\n",
       "    <tr>\n",
       "      <td>893</td>\n",
       "      <td>136A</td>\n",
       "      <td>68.5</td>\n",
       "      <td>65.0</td>\n",
       "      <td>M</td>\n",
       "      <td>68.5</td>\n",
       "      <td>8</td>\n",
       "    </tr>\n",
       "    <tr>\n",
       "      <td>894</td>\n",
       "      <td>136A</td>\n",
       "      <td>68.5</td>\n",
       "      <td>65.0</td>\n",
       "      <td>M</td>\n",
       "      <td>67.7</td>\n",
       "      <td>8</td>\n",
       "    </tr>\n",
       "    <tr>\n",
       "      <td>895</td>\n",
       "      <td>136A</td>\n",
       "      <td>68.5</td>\n",
       "      <td>65.0</td>\n",
       "      <td>F</td>\n",
       "      <td>64.0</td>\n",
       "      <td>8</td>\n",
       "    </tr>\n",
       "    <tr>\n",
       "      <td>896</td>\n",
       "      <td>136A</td>\n",
       "      <td>68.5</td>\n",
       "      <td>65.0</td>\n",
       "      <td>F</td>\n",
       "      <td>63.5</td>\n",
       "      <td>8</td>\n",
       "    </tr>\n",
       "    <tr>\n",
       "      <td>897</td>\n",
       "      <td>136A</td>\n",
       "      <td>68.5</td>\n",
       "      <td>65.0</td>\n",
       "      <td>F</td>\n",
       "      <td>63.0</td>\n",
       "      <td>8</td>\n",
       "    </tr>\n",
       "  </tbody>\n",
       "</table>\n",
       "<p>898 rows × 6 columns</p>\n",
       "</div>"
      ],
      "text/plain": [
       "    Family  Father  Mother Gender  Height  Kids\n",
       "0        1    78.5    67.0      M    73.2     4\n",
       "1        1    78.5    67.0      F    69.2     4\n",
       "2        1    78.5    67.0      F    69.0     4\n",
       "3        1    78.5    67.0      F    69.0     4\n",
       "4        2    75.5    66.5      M    73.5     4\n",
       "..     ...     ...     ...    ...     ...   ...\n",
       "893   136A    68.5    65.0      M    68.5     8\n",
       "894   136A    68.5    65.0      M    67.7     8\n",
       "895   136A    68.5    65.0      F    64.0     8\n",
       "896   136A    68.5    65.0      F    63.5     8\n",
       "897   136A    68.5    65.0      F    63.0     8\n",
       "\n",
       "[898 rows x 6 columns]"
      ]
     },
     "execution_count": 17,
     "metadata": {},
     "output_type": "execute_result"
    }
   ],
   "source": [
    "galton"
   ]
  },
  {
   "cell_type": "code",
   "execution_count": 18,
   "metadata": {},
   "outputs": [],
   "source": [
    "def normalize(row):\n",
    "    if row.Gender == 'M':\n",
    "        return (row.Height - son_mean) / son_sd\n",
    "    elif row.Gender == 'F':\n",
    "        return (row.Height - daughter_mean) / daughter_sd"
   ]
  },
  {
   "cell_type": "code",
   "execution_count": null,
   "metadata": {},
   "outputs": [],
   "source": []
  },
  {
   "cell_type": "code",
   "execution_count": 19,
   "metadata": {},
   "outputs": [],
   "source": [
    "# no multi-counting\n",
    "father_distribution = galton.groupby(['Family'], sort=False).Father.mean()\n",
    "mother_distribution = galton.groupby(['Family'], sort=False).Mother.mean()"
   ]
  },
  {
   "cell_type": "code",
   "execution_count": 20,
   "metadata": {},
   "outputs": [
    {
     "data": {
      "image/png": "[encoded data removed]",
      "text/plain": [
       "<Figure size 576x396 with 1 Axes>"
      ]
     },
     "metadata": {},
     "output_type": "display_data"
    }
   ],
   "source": [
    "sns.distplot(father_distribution, label='Father', color='red')\n",
    "sns.distplot(mother_distribution, label='Mother', color='blue')\n",
    "plt.xlabel('Height')\n",
    "plt.ylabel('Probability Density')\n",
    "plt.legend()\n",
    "plt.show()"
   ]
  },
  {
   "cell_type": "code",
   "execution_count": null,
   "metadata": {},
   "outputs": [],
   "source": []
  },
  {
   "cell_type": "code",
   "execution_count": null,
   "metadata": {},
   "outputs": [],
   "source": []
  },
  {
   "cell_type": "code",
   "execution_count": null,
   "metadata": {},
   "outputs": [],
   "source": []
  },
  {
   "cell_type": "code",
   "execution_count": null,
   "metadata": {},
   "outputs": [],
   "source": []
  },
  {
   "cell_type": "code",
   "execution_count": null,
   "metadata": {},
   "outputs": [],
   "source": []
  },
  {
   "cell_type": "markdown",
   "metadata": {},
   "source": [
    "### Parent descriptors"
   ]
  },
  {
   "cell_type": "code",
   "execution_count": 21,
   "metadata": {},
   "outputs": [
    {
     "name": "stdout",
     "output_type": "stream",
     "text": [
      "69.34923857868021 2.622034170789886\n",
      "63.98426395939087 2.3556068786418183\n"
     ]
    }
   ],
   "source": [
    "# true values, no multi-counting\n",
    "print(father_distribution.mean(), father_distribution.std())  \n",
    "print(mother_distribution.mean(), mother_distribution.std())"
   ]
  },
  {
   "cell_type": "code",
   "execution_count": 22,
   "metadata": {},
   "outputs": [],
   "source": [
    "# counts multiple times (as many as the number of offspring)\n",
    "father_mean = galton.Father.mean()  \n",
    "father_sd = galton.Father.std()"
   ]
  },
  {
   "cell_type": "code",
   "execution_count": 23,
   "metadata": {},
   "outputs": [
    {
     "name": "stdout",
     "output_type": "stream",
     "text": [
      "69.23285077950997 2.4702558107108206\n"
     ]
    }
   ],
   "source": [
    "print(father_mean, father_sd)"
   ]
  },
  {
   "cell_type": "code",
   "execution_count": 24,
   "metadata": {},
   "outputs": [],
   "source": [
    "mother_mean = galton.Mother.mean()\n",
    "mother_sd = galton.Mother.std()"
   ]
  },
  {
   "cell_type": "code",
   "execution_count": 25,
   "metadata": {},
   "outputs": [
    {
     "name": "stdout",
     "output_type": "stream",
     "text": [
      "64.08440979955456 2.3070252210018625\n"
     ]
    }
   ],
   "source": [
    "print(mother_mean, mother_sd)"
   ]
  },
  {
   "cell_type": "markdown",
   "metadata": {},
   "source": [
    "### Offspring descriptors"
   ]
  },
  {
   "cell_type": "code",
   "execution_count": 26,
   "metadata": {},
   "outputs": [],
   "source": [
    "son_distribution = galton.loc[galton.Gender == 'M'].Height\n",
    "daughter_distribution = galton.loc[galton.Gender == 'F'].Height"
   ]
  },
  {
   "cell_type": "code",
   "execution_count": null,
   "metadata": {},
   "outputs": [],
   "source": []
  },
  {
   "cell_type": "code",
   "execution_count": 27,
   "metadata": {},
   "outputs": [],
   "source": [
    "son_mean = galton.loc[galton.Gender == 'M'].Height.mean()\n",
    "son_sd = galton.loc[galton.Gender == 'M'].Height.std()"
   ]
  },
  {
   "cell_type": "code",
   "execution_count": 28,
   "metadata": {},
   "outputs": [
    {
     "name": "stdout",
     "output_type": "stream",
     "text": [
      "69.22881720430114 2.6315942826866188\n"
     ]
    }
   ],
   "source": [
    "print(son_mean, son_sd)"
   ]
  },
  {
   "cell_type": "code",
   "execution_count": 29,
   "metadata": {},
   "outputs": [],
   "source": [
    "daughter_mean = galton.loc[galton.Gender == 'F'].Height.mean()\n",
    "daughter_sd = galton.loc[galton.Gender == 'F'].Height.std()"
   ]
  },
  {
   "cell_type": "code",
   "execution_count": 30,
   "metadata": {},
   "outputs": [
    {
     "name": "stdout",
     "output_type": "stream",
     "text": [
      "64.11016166281759 2.370319602944069\n"
     ]
    }
   ],
   "source": [
    "print(daughter_mean, daughter_sd)"
   ]
  },
  {
   "cell_type": "markdown",
   "metadata": {},
   "source": [
    "### Naive offspring r sub s"
   ]
  },
  {
   "cell_type": "code",
   "execution_count": 31,
   "metadata": {},
   "outputs": [],
   "source": [
    "# standard deviations of the individual distributions\n",
    "son_sds = galton.loc[galton.Gender == 'M'].groupby(['Family'], sort=False).Height.std()\n",
    "daughter_sds = galton.loc[galton.Gender == 'F'].groupby(['Family'], sort=False).\\\n",
    "                        Height.std()"
   ]
  },
  {
   "cell_type": "code",
   "execution_count": 32,
   "metadata": {},
   "outputs": [
    {
     "data": {
      "text/plain": [
       "(1.6928601601893907, 1.5275252316519485)"
      ]
     },
     "execution_count": 32,
     "metadata": {},
     "output_type": "execute_result"
    }
   ],
   "source": [
    "son_sds.mean(), son_sds.median()"
   ]
  },
  {
   "cell_type": "code",
   "execution_count": 33,
   "metadata": {},
   "outputs": [
    {
     "data": {
      "text/plain": [
       "(1.4968470911127525, 1.4142135623730951)"
      ]
     },
     "execution_count": 33,
     "metadata": {},
     "output_type": "execute_result"
    }
   ],
   "source": [
    "daughter_sds.mean(), daughter_sds.median()"
   ]
  },
  {
   "cell_type": "code",
   "execution_count": 34,
   "metadata": {},
   "outputs": [
    {
     "data": {
      "text/plain": [
       "0.6852975116379818"
      ]
     },
     "execution_count": 34,
     "metadata": {},
     "output_type": "execute_result"
    }
   ],
   "source": [
    "son_sds.mean() / father_sd"
   ]
  },
  {
   "cell_type": "code",
   "execution_count": 35,
   "metadata": {},
   "outputs": [
    {
     "data": {
      "text/plain": [
       "0.6488212948373069"
      ]
     },
     "execution_count": 35,
     "metadata": {},
     "output_type": "execute_result"
    }
   ],
   "source": [
    "daughter_sds.mean() / mother_sd"
   ]
  },
  {
   "cell_type": "code",
   "execution_count": 36,
   "metadata": {},
   "outputs": [],
   "source": [
    "galton_norm = pd.DataFrame()\n",
    "\n",
    "galton_norm = pd.DataFrame((galton['Father'] - father_mean) / father_sd)\n",
    "\n",
    "galton_norm['Mother'] = (galton['Mother'] - mother_mean) / mother_sd\n",
    "\n",
    "galton_norm['Parent'] = (galton_norm.Father + galton_norm.Mother) / 2\n",
    "galton_norm['Offspring'] = galton.apply(normalize, axis='columns')"
   ]
  },
  {
   "cell_type": "markdown",
   "metadata": {},
   "source": [
    "### Normalized offspring r sub s (includes male and female offspring)"
   ]
  },
  {
   "cell_type": "code",
   "execution_count": 37,
   "metadata": {},
   "outputs": [],
   "source": [
    "galton['NormHeight'] = galton.apply(normalize, axis='columns')"
   ]
  },
  {
   "cell_type": "code",
   "execution_count": 38,
   "metadata": {},
   "outputs": [],
   "source": [
    "offspring_sds = galton.groupby(['Family'], sort=False).NormHeight.std()"
   ]
  },
  {
   "cell_type": "code",
   "execution_count": 39,
   "metadata": {},
   "outputs": [
    {
     "data": {
      "text/plain": [
       "(0.6692042056467554, 0.6873125038392203)"
      ]
     },
     "execution_count": 39,
     "metadata": {},
     "output_type": "execute_result"
    }
   ],
   "source": [
    "offspring_sds.median(), offspring_sds.mean()"
   ]
  },
  {
   "cell_type": "code",
   "execution_count": 40,
   "metadata": {},
   "outputs": [
    {
     "data": {
      "text/plain": [
       "0.7326884096058295"
      ]
     },
     "execution_count": 40,
     "metadata": {},
     "output_type": "execute_result"
    }
   ],
   "source": [
    "galton_norm.Parent.std()"
   ]
  },
  {
   "cell_type": "code",
   "execution_count": 41,
   "metadata": {},
   "outputs": [
    {
     "data": {
      "text/plain": [
       "0.9133544312605857"
      ]
     },
     "execution_count": 41,
     "metadata": {},
     "output_type": "execute_result"
    }
   ],
   "source": [
    "offspring_sds.median() / galton_norm.Parent.std()"
   ]
  },
  {
   "cell_type": "code",
   "execution_count": 42,
   "metadata": {},
   "outputs": [
    {
     "data": {
      "text/plain": [
       "0.9380693004397047"
      ]
     },
     "execution_count": 42,
     "metadata": {},
     "output_type": "execute_result"
    }
   ],
   "source": [
    "offspring_sds.mean() / galton_norm.Parent.std()"
   ]
  },
  {
   "cell_type": "code",
   "execution_count": null,
   "metadata": {},
   "outputs": [],
   "source": []
  },
  {
   "cell_type": "code",
   "execution_count": null,
   "metadata": {},
   "outputs": [],
   "source": []
  },
  {
   "cell_type": "code",
   "execution_count": null,
   "metadata": {},
   "outputs": [],
   "source": []
  },
  {
   "cell_type": "code",
   "execution_count": null,
   "metadata": {},
   "outputs": [],
   "source": []
  },
  {
   "cell_type": "code",
   "execution_count": 43,
   "metadata": {},
   "outputs": [
    {
     "data": {
      "image/png": "[encoded data removed]",
      "text/plain": [
       "<Figure size 576x396 with 1 Axes>"
      ]
     },
     "metadata": {},
     "output_type": "display_data"
    }
   ],
   "source": [
    "sns.distplot(son_distribution, label='Son', color='red')\n",
    "sns.distplot(daughter_distribution, label='Daughter', color='blue')\n",
    "plt.xlabel('Height')\n",
    "plt.ylabel('Probability Density')\n",
    "plt.legend()\n",
    "plt.show()"
   ]
  },
  {
   "cell_type": "code",
   "execution_count": 44,
   "metadata": {},
   "outputs": [
    {
     "data": {
      "text/plain": [
       "197"
      ]
     },
     "execution_count": 44,
     "metadata": {},
     "output_type": "execute_result"
    }
   ],
   "source": [
    "len(galton.Family.unique())"
   ]
  },
  {
   "cell_type": "code",
   "execution_count": null,
   "metadata": {},
   "outputs": [],
   "source": []
  },
  {
   "cell_type": "code",
   "execution_count": 45,
   "metadata": {},
   "outputs": [
    {
     "data": {
      "image/png": "[encoded data removed]",
      "text/plain": [
       "<Figure size 576x396 with 1 Axes>"
      ]
     },
     "metadata": {},
     "output_type": "display_data"
    }
   ],
   "source": [
    "sns.distplot(father_distribution, label='Father')\n",
    "sns.distplot(son_distribution, label='Son')\n",
    "plt.xlabel('Height')\n",
    "plt.ylabel('Probability Density')\n",
    "plt.legend()\n",
    "plt.show()"
   ]
  },
  {
   "cell_type": "code",
   "execution_count": 46,
   "metadata": {},
   "outputs": [
    {
     "data": {
      "image/png": "[encoded data removed]",
      "text/plain": [
       "<Figure size 576x396 with 1 Axes>"
      ]
     },
     "metadata": {},
     "output_type": "display_data"
    }
   ],
   "source": [
    "sns.distplot(mother_distribution, label='Mother')\n",
    "sns.distplot(daughter_distribution, label='Daughter')\n",
    "plt.xlabel('Height')\n",
    "plt.ylabel('Probability Density')\n",
    "plt.legend()\n",
    "plt.show()"
   ]
  },
  {
   "cell_type": "code",
   "execution_count": null,
   "metadata": {},
   "outputs": [],
   "source": []
  },
  {
   "cell_type": "code",
   "execution_count": null,
   "metadata": {},
   "outputs": [],
   "source": []
  },
  {
   "cell_type": "code",
   "execution_count": null,
   "metadata": {},
   "outputs": [],
   "source": []
  },
  {
   "cell_type": "code",
   "execution_count": null,
   "metadata": {},
   "outputs": [],
   "source": []
  },
  {
   "cell_type": "code",
   "execution_count": null,
   "metadata": {},
   "outputs": [],
   "source": []
  },
  {
   "cell_type": "code",
   "execution_count": null,
   "metadata": {},
   "outputs": [],
   "source": []
  },
  {
   "cell_type": "code",
   "execution_count": null,
   "metadata": {},
   "outputs": [],
   "source": []
  },
  {
   "cell_type": "code",
   "execution_count": 47,
   "metadata": {},
   "outputs": [
    {
     "data": {
      "image/png": "[encoded data removed]",
      "text/plain": [
       "<Figure size 576x396 with 1 Axes>"
      ]
     },
     "metadata": {},
     "output_type": "display_data"
    }
   ],
   "source": [
    "sns.distplot(galton_norm.Father, label='Father', color='red')\n",
    "sns.distplot(galton_norm.Mother, label='Mother', color='blue')\n",
    "plt.xlabel('Standard Deviations from Mean')\n",
    "plt.ylabel('Probability Density')\n",
    "plt.legend()\n",
    "plt.show()"
   ]
  },
  {
   "cell_type": "code",
   "execution_count": 94,
   "metadata": {},
   "outputs": [
    {
     "data": {
      "image/png": "[encoded data removed]",
      "text/plain": [
       "<Figure size 576x396 with 1 Axes>"
      ]
     },
     "metadata": {},
     "output_type": "display_data"
    }
   ],
   "source": [
    "plt.xlabel('Father z-score')\n",
    "plt.ylabel('Mother z-score')\n",
    "sns.regplot(galton_norm.Father, galton_norm.Mother)\n",
    "plt.show()"
   ]
  },
  {
   "cell_type": "code",
   "execution_count": null,
   "metadata": {},
   "outputs": [],
   "source": []
  },
  {
   "cell_type": "code",
   "execution_count": null,
   "metadata": {},
   "outputs": [],
   "source": []
  },
  {
   "cell_type": "code",
   "execution_count": null,
   "metadata": {},
   "outputs": [],
   "source": []
  },
  {
   "cell_type": "code",
   "execution_count": 49,
   "metadata": {},
   "outputs": [
    {
     "data": {
      "text/html": [
       "<div>\n",
       "<style scoped>\n",
       "    .dataframe tbody tr th:only-of-type {\n",
       "        vertical-align: middle;\n",
       "    }\n",
       "\n",
       "    .dataframe tbody tr th {\n",
       "        vertical-align: top;\n",
       "    }\n",
       "\n",
       "    .dataframe thead th {\n",
       "        text-align: right;\n",
       "    }\n",
       "</style>\n",
       "<table border=\"1\" class=\"dataframe\">\n",
       "  <thead>\n",
       "    <tr style=\"text-align: right;\">\n",
       "      <th></th>\n",
       "      <th>Father</th>\n",
       "      <th>Mother</th>\n",
       "      <th>Parent</th>\n",
       "      <th>Offspring</th>\n",
       "    </tr>\n",
       "  </thead>\n",
       "  <tbody>\n",
       "    <tr>\n",
       "      <td>0</td>\n",
       "      <td>3.751494</td>\n",
       "      <td>1.263788</td>\n",
       "      <td>2.507641</td>\n",
       "      <td>1.509041</td>\n",
       "    </tr>\n",
       "    <tr>\n",
       "      <td>1</td>\n",
       "      <td>3.751494</td>\n",
       "      <td>1.263788</td>\n",
       "      <td>2.507641</td>\n",
       "      <td>2.147322</td>\n",
       "    </tr>\n",
       "    <tr>\n",
       "      <td>2</td>\n",
       "      <td>3.751494</td>\n",
       "      <td>1.263788</td>\n",
       "      <td>2.507641</td>\n",
       "      <td>2.062945</td>\n",
       "    </tr>\n",
       "    <tr>\n",
       "      <td>3</td>\n",
       "      <td>3.751494</td>\n",
       "      <td>1.263788</td>\n",
       "      <td>2.507641</td>\n",
       "      <td>2.062945</td>\n",
       "    </tr>\n",
       "    <tr>\n",
       "      <td>4</td>\n",
       "      <td>2.537045</td>\n",
       "      <td>1.047058</td>\n",
       "      <td>1.792052</td>\n",
       "      <td>1.623040</td>\n",
       "    </tr>\n",
       "    <tr>\n",
       "      <td>...</td>\n",
       "      <td>...</td>\n",
       "      <td>...</td>\n",
       "      <td>...</td>\n",
       "      <td>...</td>\n",
       "    </tr>\n",
       "    <tr>\n",
       "      <td>893</td>\n",
       "      <td>-0.296670</td>\n",
       "      <td>0.396870</td>\n",
       "      <td>0.050100</td>\n",
       "      <td>-0.276949</td>\n",
       "    </tr>\n",
       "    <tr>\n",
       "      <td>894</td>\n",
       "      <td>-0.296670</td>\n",
       "      <td>0.396870</td>\n",
       "      <td>0.050100</td>\n",
       "      <td>-0.580947</td>\n",
       "    </tr>\n",
       "    <tr>\n",
       "      <td>895</td>\n",
       "      <td>-0.296670</td>\n",
       "      <td>0.396870</td>\n",
       "      <td>0.050100</td>\n",
       "      <td>-0.046475</td>\n",
       "    </tr>\n",
       "    <tr>\n",
       "      <td>896</td>\n",
       "      <td>-0.296670</td>\n",
       "      <td>0.396870</td>\n",
       "      <td>0.050100</td>\n",
       "      <td>-0.257417</td>\n",
       "    </tr>\n",
       "    <tr>\n",
       "      <td>897</td>\n",
       "      <td>-0.296670</td>\n",
       "      <td>0.396870</td>\n",
       "      <td>0.050100</td>\n",
       "      <td>-0.468359</td>\n",
       "    </tr>\n",
       "  </tbody>\n",
       "</table>\n",
       "<p>898 rows × 4 columns</p>\n",
       "</div>"
      ],
      "text/plain": [
       "       Father    Mother    Parent  Offspring\n",
       "0    3.751494  1.263788  2.507641   1.509041\n",
       "1    3.751494  1.263788  2.507641   2.147322\n",
       "2    3.751494  1.263788  2.507641   2.062945\n",
       "3    3.751494  1.263788  2.507641   2.062945\n",
       "4    2.537045  1.047058  1.792052   1.623040\n",
       "..        ...       ...       ...        ...\n",
       "893 -0.296670  0.396870  0.050100  -0.276949\n",
       "894 -0.296670  0.396870  0.050100  -0.580947\n",
       "895 -0.296670  0.396870  0.050100  -0.046475\n",
       "896 -0.296670  0.396870  0.050100  -0.257417\n",
       "897 -0.296670  0.396870  0.050100  -0.468359\n",
       "\n",
       "[898 rows x 4 columns]"
      ]
     },
     "execution_count": 49,
     "metadata": {},
     "output_type": "execute_result"
    }
   ],
   "source": [
    "galton_norm"
   ]
  },
  {
   "cell_type": "code",
   "execution_count": null,
   "metadata": {},
   "outputs": [],
   "source": []
  },
  {
   "cell_type": "code",
   "execution_count": null,
   "metadata": {},
   "outputs": [],
   "source": []
  },
  {
   "cell_type": "code",
   "execution_count": 50,
   "metadata": {},
   "outputs": [
    {
     "data": {
      "text/plain": [
       "<matplotlib.axes._subplots.AxesSubplot at 0x1a17c585d0>"
      ]
     },
     "execution_count": 50,
     "metadata": {},
     "output_type": "execute_result"
    },
    {
     "data": {
      "image/png": "[encoded data removed]",
      "text/plain": [
       "<Figure size 576x396 with 1 Axes>"
      ]
     },
     "metadata": {},
     "output_type": "display_data"
    }
   ],
   "source": [
    "sns.regplot(galton_norm.Parent, galton_norm.Offspring)"
   ]
  },
  {
   "cell_type": "code",
   "execution_count": 51,
   "metadata": {},
   "outputs": [
    {
     "data": {
      "text/html": [
       "<div>\n",
       "<style scoped>\n",
       "    .dataframe tbody tr th:only-of-type {\n",
       "        vertical-align: middle;\n",
       "    }\n",
       "\n",
       "    .dataframe tbody tr th {\n",
       "        vertical-align: top;\n",
       "    }\n",
       "\n",
       "    .dataframe thead th {\n",
       "        text-align: right;\n",
       "    }\n",
       "</style>\n",
       "<table border=\"1\" class=\"dataframe\">\n",
       "  <thead>\n",
       "    <tr style=\"text-align: right;\">\n",
       "      <th></th>\n",
       "      <th>Father</th>\n",
       "      <th>Mother</th>\n",
       "      <th>Parent</th>\n",
       "      <th>Offspring</th>\n",
       "    </tr>\n",
       "  </thead>\n",
       "  <tbody>\n",
       "    <tr>\n",
       "      <td>Father</td>\n",
       "      <td>1.000000</td>\n",
       "      <td>0.073665</td>\n",
       "      <td>0.732688</td>\n",
       "      <td>0.424994</td>\n",
       "    </tr>\n",
       "    <tr>\n",
       "      <td>Mother</td>\n",
       "      <td>0.073665</td>\n",
       "      <td>1.000000</td>\n",
       "      <td>0.732688</td>\n",
       "      <td>0.324175</td>\n",
       "    </tr>\n",
       "    <tr>\n",
       "      <td>Parent</td>\n",
       "      <td>0.732688</td>\n",
       "      <td>0.732688</td>\n",
       "      <td>1.000000</td>\n",
       "      <td>0.511247</td>\n",
       "    </tr>\n",
       "    <tr>\n",
       "      <td>Offspring</td>\n",
       "      <td>0.424994</td>\n",
       "      <td>0.324175</td>\n",
       "      <td>0.511247</td>\n",
       "      <td>1.000000</td>\n",
       "    </tr>\n",
       "  </tbody>\n",
       "</table>\n",
       "</div>"
      ],
      "text/plain": [
       "             Father    Mother    Parent  Offspring\n",
       "Father     1.000000  0.073665  0.732688   0.424994\n",
       "Mother     0.073665  1.000000  0.732688   0.324175\n",
       "Parent     0.732688  0.732688  1.000000   0.511247\n",
       "Offspring  0.424994  0.324175  0.511247   1.000000"
      ]
     },
     "execution_count": 51,
     "metadata": {},
     "output_type": "execute_result"
    }
   ],
   "source": [
    "galton_norm.corr()"
   ]
  },
  {
   "cell_type": "code",
   "execution_count": null,
   "metadata": {},
   "outputs": [],
   "source": []
  },
  {
   "cell_type": "code",
   "execution_count": 52,
   "metadata": {},
   "outputs": [
    {
     "data": {
      "text/plain": [
       "<matplotlib.axes._subplots.AxesSubplot at 0x1a179e3290>"
      ]
     },
     "execution_count": 52,
     "metadata": {},
     "output_type": "execute_result"
    },
    {
     "data": {
      "image/png": "[encoded data removed]",
      "text/plain": [
       "<Figure size 576x396 with 1 Axes>"
      ]
     },
     "metadata": {},
     "output_type": "display_data"
    }
   ],
   "source": [
    "sns.distplot(galton_norm.Parent, color='green')\n",
    "sns.distplot(galton_norm.Mother, color='blue')\n",
    "sns.distplot(galton_norm.Father, color='red')\n"
   ]
  },
  {
   "cell_type": "code",
   "execution_count": 53,
   "metadata": {},
   "outputs": [
    {
     "name": "stdout",
     "output_type": "stream",
     "text": [
      "0.7326884096058295 0.9999999999999896 1.000000000000001 0.9994424309574889\n"
     ]
    }
   ],
   "source": [
    "print(\n",
    "galton_norm.Parent.std(),\n",
    "galton_norm.Mother.std(),\n",
    "galton_norm.Father.std(),\n",
    "galton_norm.Offspring.std())"
   ]
  },
  {
   "cell_type": "code",
   "execution_count": 54,
   "metadata": {},
   "outputs": [
    {
     "data": {
      "text/plain": [
       "<matplotlib.axes._subplots.AxesSubplot at 0x1a17d28ed0>"
      ]
     },
     "execution_count": 54,
     "metadata": {},
     "output_type": "execute_result"
    },
    {
     "data": {
      "image/png": "[encoded data removed]",
      "text/plain": [
       "<Figure size 576x396 with 1 Axes>"
      ]
     },
     "metadata": {},
     "output_type": "display_data"
    }
   ],
   "source": [
    "sns.distplot(galton_norm.Mother)\n",
    "sns.distplot(galton_norm.Offspring)"
   ]
  },
  {
   "cell_type": "code",
   "execution_count": 55,
   "metadata": {},
   "outputs": [
    {
     "data": {
      "text/plain": [
       "<matplotlib.axes._subplots.AxesSubplot at 0x1a17d28850>"
      ]
     },
     "execution_count": 55,
     "metadata": {},
     "output_type": "execute_result"
    },
    {
     "data": {
      "image/png": "[encoded data removed]",
      "text/plain": [
       "<Figure size 576x396 with 1 Axes>"
      ]
     },
     "metadata": {},
     "output_type": "display_data"
    }
   ],
   "source": [
    "sns.distplot(galton_norm.Father)\n",
    "sns.distplot(galton_norm.Offspring)"
   ]
  },
  {
   "cell_type": "code",
   "execution_count": 56,
   "metadata": {},
   "outputs": [
    {
     "data": {
      "image/png": "[encoded data removed]",
      "text/plain": [
       "<Figure size 576x396 with 1 Axes>"
      ]
     },
     "metadata": {},
     "output_type": "display_data"
    }
   ],
   "source": [
    "sns.distplot(galton_norm.Parent, label='Parent')\n",
    "sns.distplot(galton_norm.Offspring, label='Offspring')\n",
    "plt.legend()\n",
    "plt.show()"
   ]
  },
  {
   "cell_type": "code",
   "execution_count": 57,
   "metadata": {},
   "outputs": [
    {
     "name": "stdout",
     "output_type": "stream",
     "text": [
      "1.000000000000001 0.9999999999999896 0.7326884096058295 0.9994424309574889\n"
     ]
    }
   ],
   "source": [
    "print(galton_norm.Father.std(), \n",
    "galton_norm.Mother.std(),\n",
    "galton_norm.Parent.std(),\n",
    "galton_norm.Offspring.std())"
   ]
  },
  {
   "cell_type": "code",
   "execution_count": 58,
   "metadata": {},
   "outputs": [
    {
     "data": {
      "image/png": "[encoded data removed]",
      "text/plain": [
       "<Figure size 576x396 with 1 Axes>"
      ]
     },
     "metadata": {},
     "output_type": "display_data"
    }
   ],
   "source": [
    "all_parents = galton_norm.Father.tolist() + galton_norm.Mother.tolist()\n",
    "sns.distplot(all_parents, label='Parent')\n",
    "sns.distplot(galton_norm.Offspring.tolist(), label='Offspring')\n",
    "plt.legend()\n",
    "plt.show()"
   ]
  },
  {
   "cell_type": "code",
   "execution_count": 59,
   "metadata": {},
   "outputs": [
    {
     "data": {
      "text/plain": [
       "0.9997214096616756"
      ]
     },
     "execution_count": 59,
     "metadata": {},
     "output_type": "execute_result"
    }
   ],
   "source": [
    "statistics.stdev(galton_norm.Father.tolist() + galton_norm.Mother.tolist())"
   ]
  },
  {
   "cell_type": "code",
   "execution_count": null,
   "metadata": {},
   "outputs": [],
   "source": []
  },
  {
   "cell_type": "code",
   "execution_count": 60,
   "metadata": {},
   "outputs": [
    {
     "data": {
      "text/plain": [
       "0.9994424309574893"
      ]
     },
     "execution_count": 60,
     "metadata": {},
     "output_type": "execute_result"
    }
   ],
   "source": [
    "statistics.stdev(galton_norm.Offspring)"
   ]
  },
  {
   "cell_type": "code",
   "execution_count": 61,
   "metadata": {},
   "outputs": [
    {
     "data": {
      "text/plain": [
       "0.7326884096058293"
      ]
     },
     "execution_count": 61,
     "metadata": {},
     "output_type": "execute_result"
    }
   ],
   "source": [
    "statistics.stdev(galton_norm.Parent)"
   ]
  },
  {
   "cell_type": "code",
   "execution_count": 90,
   "metadata": {},
   "outputs": [
    {
     "data": {
      "text/plain": [
       "0.5368323055707195"
      ]
     },
     "execution_count": 90,
     "metadata": {},
     "output_type": "execute_result"
    }
   ],
   "source": [
    "0.7326884096058293 ** 2"
   ]
  },
  {
   "cell_type": "markdown",
   "metadata": {},
   "source": [
    "Variance of the midparental phenotype distribution. "
   ]
  },
  {
   "cell_type": "code",
   "execution_count": null,
   "metadata": {},
   "outputs": [],
   "source": []
  },
  {
   "cell_type": "code",
   "execution_count": 62,
   "metadata": {},
   "outputs": [],
   "source": [
    "father_distribution = np.array(father_distribution)\n",
    "mother_distribution = np.array(mother_distribution)"
   ]
  },
  {
   "cell_type": "code",
   "execution_count": 63,
   "metadata": {},
   "outputs": [],
   "source": [
    "norm_father_distribution = (father_distribution - father_distribution.mean()) / \\\n",
    "                            father_distribution.std()\n",
    "\n",
    "norm_mother_distribution = (mother_distribution - mother_distribution.mean()) / \\\n",
    "                            mother_distribution.std()"
   ]
  },
  {
   "cell_type": "code",
   "execution_count": 64,
   "metadata": {},
   "outputs": [
    {
     "data": {
      "image/png": "[encoded data removed]",
      "text/plain": [
       "<Figure size 576x396 with 1 Axes>"
      ]
     },
     "metadata": {},
     "output_type": "display_data"
    }
   ],
   "source": [
    "normed_fm_dist = norm_father_distribution.tolist() + norm_mother_distribution.tolist()\n",
    "\n",
    "sns.distplot(normed_fm_dist, label='Father and Mothers Normed')\n",
    "sns.distplot(galton_norm.Offspring.tolist(), label='Offspring')\n",
    "plt.legend()\n",
    "plt.show()"
   ]
  },
  {
   "cell_type": "code",
   "execution_count": null,
   "metadata": {},
   "outputs": [],
   "source": []
  },
  {
   "cell_type": "code",
   "execution_count": null,
   "metadata": {},
   "outputs": [],
   "source": []
  },
  {
   "cell_type": "code",
   "execution_count": null,
   "metadata": {},
   "outputs": [],
   "source": []
  },
  {
   "cell_type": "code",
   "execution_count": null,
   "metadata": {},
   "outputs": [],
   "source": []
  },
  {
   "cell_type": "code",
   "execution_count": null,
   "metadata": {},
   "outputs": [],
   "source": []
  },
  {
   "cell_type": "code",
   "execution_count": 65,
   "metadata": {},
   "outputs": [
    {
     "data": {
      "text/html": [
       "<div>\n",
       "<style scoped>\n",
       "    .dataframe tbody tr th:only-of-type {\n",
       "        vertical-align: middle;\n",
       "    }\n",
       "\n",
       "    .dataframe tbody tr th {\n",
       "        vertical-align: top;\n",
       "    }\n",
       "\n",
       "    .dataframe thead th {\n",
       "        text-align: right;\n",
       "    }\n",
       "</style>\n",
       "<table border=\"1\" class=\"dataframe\">\n",
       "  <thead>\n",
       "    <tr style=\"text-align: right;\">\n",
       "      <th></th>\n",
       "      <th>Father</th>\n",
       "      <th>Mother</th>\n",
       "      <th>Parent</th>\n",
       "      <th>Offspring</th>\n",
       "    </tr>\n",
       "  </thead>\n",
       "  <tbody>\n",
       "    <tr>\n",
       "      <td>0</td>\n",
       "      <td>3.751494</td>\n",
       "      <td>1.263788</td>\n",
       "      <td>2.507641</td>\n",
       "      <td>1.509041</td>\n",
       "    </tr>\n",
       "    <tr>\n",
       "      <td>1</td>\n",
       "      <td>3.751494</td>\n",
       "      <td>1.263788</td>\n",
       "      <td>2.507641</td>\n",
       "      <td>2.147322</td>\n",
       "    </tr>\n",
       "    <tr>\n",
       "      <td>2</td>\n",
       "      <td>3.751494</td>\n",
       "      <td>1.263788</td>\n",
       "      <td>2.507641</td>\n",
       "      <td>2.062945</td>\n",
       "    </tr>\n",
       "    <tr>\n",
       "      <td>3</td>\n",
       "      <td>3.751494</td>\n",
       "      <td>1.263788</td>\n",
       "      <td>2.507641</td>\n",
       "      <td>2.062945</td>\n",
       "    </tr>\n",
       "    <tr>\n",
       "      <td>4</td>\n",
       "      <td>2.537045</td>\n",
       "      <td>1.047058</td>\n",
       "      <td>1.792052</td>\n",
       "      <td>1.623040</td>\n",
       "    </tr>\n",
       "    <tr>\n",
       "      <td>...</td>\n",
       "      <td>...</td>\n",
       "      <td>...</td>\n",
       "      <td>...</td>\n",
       "      <td>...</td>\n",
       "    </tr>\n",
       "    <tr>\n",
       "      <td>893</td>\n",
       "      <td>-0.296670</td>\n",
       "      <td>0.396870</td>\n",
       "      <td>0.050100</td>\n",
       "      <td>-0.276949</td>\n",
       "    </tr>\n",
       "    <tr>\n",
       "      <td>894</td>\n",
       "      <td>-0.296670</td>\n",
       "      <td>0.396870</td>\n",
       "      <td>0.050100</td>\n",
       "      <td>-0.580947</td>\n",
       "    </tr>\n",
       "    <tr>\n",
       "      <td>895</td>\n",
       "      <td>-0.296670</td>\n",
       "      <td>0.396870</td>\n",
       "      <td>0.050100</td>\n",
       "      <td>-0.046475</td>\n",
       "    </tr>\n",
       "    <tr>\n",
       "      <td>896</td>\n",
       "      <td>-0.296670</td>\n",
       "      <td>0.396870</td>\n",
       "      <td>0.050100</td>\n",
       "      <td>-0.257417</td>\n",
       "    </tr>\n",
       "    <tr>\n",
       "      <td>897</td>\n",
       "      <td>-0.296670</td>\n",
       "      <td>0.396870</td>\n",
       "      <td>0.050100</td>\n",
       "      <td>-0.468359</td>\n",
       "    </tr>\n",
       "  </tbody>\n",
       "</table>\n",
       "<p>898 rows × 4 columns</p>\n",
       "</div>"
      ],
      "text/plain": [
       "       Father    Mother    Parent  Offspring\n",
       "0    3.751494  1.263788  2.507641   1.509041\n",
       "1    3.751494  1.263788  2.507641   2.147322\n",
       "2    3.751494  1.263788  2.507641   2.062945\n",
       "3    3.751494  1.263788  2.507641   2.062945\n",
       "4    2.537045  1.047058  1.792052   1.623040\n",
       "..        ...       ...       ...        ...\n",
       "893 -0.296670  0.396870  0.050100  -0.276949\n",
       "894 -0.296670  0.396870  0.050100  -0.580947\n",
       "895 -0.296670  0.396870  0.050100  -0.046475\n",
       "896 -0.296670  0.396870  0.050100  -0.257417\n",
       "897 -0.296670  0.396870  0.050100  -0.468359\n",
       "\n",
       "[898 rows x 4 columns]"
      ]
     },
     "execution_count": 65,
     "metadata": {},
     "output_type": "execute_result"
    }
   ],
   "source": [
    "galton_norm"
   ]
  },
  {
   "cell_type": "code",
   "execution_count": null,
   "metadata": {},
   "outputs": [],
   "source": []
  },
  {
   "cell_type": "markdown",
   "metadata": {},
   "source": [
    "### Using Galton's height data to answer the motivating question"
   ]
  },
  {
   "cell_type": "code",
   "execution_count": null,
   "metadata": {},
   "outputs": [],
   "source": []
  },
  {
   "cell_type": "code",
   "execution_count": 66,
   "metadata": {},
   "outputs": [],
   "source": [
    "parent = np.array(galton_norm.Parent.tolist())\n",
    "offspring = np.array(galton_norm.Offspring.tolist())"
   ]
  },
  {
   "cell_type": "code",
   "execution_count": 67,
   "metadata": {},
   "outputs": [],
   "source": [
    "sd_par = statistics.stdev(parent)"
   ]
  },
  {
   "cell_type": "code",
   "execution_count": 68,
   "metadata": {},
   "outputs": [],
   "source": [
    "parent /= sd_par"
   ]
  },
  {
   "cell_type": "code",
   "execution_count": 69,
   "metadata": {},
   "outputs": [
    {
     "data": {
      "text/plain": [
       "1.0"
      ]
     },
     "execution_count": 69,
     "metadata": {},
     "output_type": "execute_result"
    }
   ],
   "source": [
    "statistics.stdev(parent)"
   ]
  },
  {
   "cell_type": "code",
   "execution_count": 70,
   "metadata": {},
   "outputs": [
    {
     "data": {
      "text/plain": [
       "0.9994424309574893"
      ]
     },
     "execution_count": 70,
     "metadata": {},
     "output_type": "execute_result"
    }
   ],
   "source": [
    "statistics.stdev(offspring)"
   ]
  },
  {
   "cell_type": "markdown",
   "metadata": {},
   "source": [
    "My model said that 57% of the offspring above the 80th percentile are from parents below 80th percentile. Galton’s data got 61%."
   ]
  },
  {
   "cell_type": "code",
   "execution_count": 71,
   "metadata": {},
   "outputs": [],
   "source": [
    "N = len(offspring)\n",
    "\n",
    "def to_percent(prop, digits):\n",
    "    print(str(round(prop * 100, digits)) + '%')\n",
    "\n",
    "    \n",
    "def percent_error(approx, exact, digits=2):\n",
    "    prop = abs(approx - exact) / exact\n",
    "    return to_percent(prop, digits)\n",
    "\n",
    "\n",
    "def att_below_percen(percentile):\n",
    "    attributed_pars = list()\n",
    "    for i in range(N):\n",
    "        if offspring[i] >= st.norm.ppf(percentile):\n",
    "            attributed_pars.append(parent[i])\n",
    "    \n",
    "    print(len(attributed_pars), 'attributable parents')\n",
    "    \n",
    "    count = 0\n",
    "    for j in range(len(attributed_pars)):\n",
    "        if attributed_pars[j] < st.norm.ppf(percentile):\n",
    "            count += 1\n",
    "    prop_from_below = count / len(attributed_pars)\n",
    "\n",
    "    return prop_from_below"
   ]
  },
  {
   "cell_type": "code",
   "execution_count": 72,
   "metadata": {},
   "outputs": [
    {
     "name": "stdout",
     "output_type": "stream",
     "text": [
      "165 attributable parents\n"
     ]
    },
    {
     "data": {
      "text/plain": [
       "0.6060606060606061"
      ]
     },
     "execution_count": 72,
     "metadata": {},
     "output_type": "execute_result"
    }
   ],
   "source": [
    "att_below_percen(0.8)"
   ]
  },
  {
   "cell_type": "markdown",
   "metadata": {},
   "source": [
    "My model said that 57% of the offspring above the 80th percentile are from parents below 80th percentile. Galton’s data got 61%."
   ]
  },
  {
   "cell_type": "code",
   "execution_count": 73,
   "metadata": {},
   "outputs": [
    {
     "name": "stdout",
     "output_type": "stream",
     "text": [
      "6.56%\n"
     ]
    }
   ],
   "source": [
    "percent_error(approx=0.57, exact=0.61)"
   ]
  },
  {
   "cell_type": "markdown",
   "metadata": {},
   "source": [
    "Percent error between proposed model and Galton's data for 80th percentile"
   ]
  },
  {
   "cell_type": "code",
   "execution_count": 74,
   "metadata": {},
   "outputs": [
    {
     "name": "stdout",
     "output_type": "stream",
     "text": [
      "240 attributable parents\n"
     ]
    },
    {
     "data": {
      "text/plain": [
       "0.5"
      ]
     },
     "execution_count": 74,
     "metadata": {},
     "output_type": "execute_result"
    }
   ],
   "source": [
    "att_below_percen(0.73)"
   ]
  },
  {
   "cell_type": "code",
   "execution_count": 75,
   "metadata": {},
   "outputs": [
    {
     "name": "stdout",
     "output_type": "stream",
     "text": [
      "263 attributable parents\n"
     ]
    },
    {
     "data": {
      "text/plain": [
       "0.5171102661596958"
      ]
     },
     "execution_count": 75,
     "metadata": {},
     "output_type": "execute_result"
    }
   ],
   "source": [
    "att_below_percen(0.72)"
   ]
  },
  {
   "cell_type": "markdown",
   "metadata": {},
   "source": [
    "My model also said the equilibrium that 50% of the offspring above the 50th percentile are from parents below the 50th percentile. Glaton’s data got 52%."
   ]
  },
  {
   "cell_type": "code",
   "execution_count": 76,
   "metadata": {},
   "outputs": [
    {
     "name": "stdout",
     "output_type": "stream",
     "text": [
      "4.0%\n"
     ]
    }
   ],
   "source": [
    "percent_error(approx=0.52, exact=0.50)"
   ]
  },
  {
   "cell_type": "markdown",
   "metadata": {},
   "source": [
    "Percent error between proposed model and Galton's data for estimated equilibrium percentile"
   ]
  },
  {
   "cell_type": "code",
   "execution_count": null,
   "metadata": {},
   "outputs": [],
   "source": []
  },
  {
   "cell_type": "code",
   "execution_count": null,
   "metadata": {},
   "outputs": [],
   "source": []
  },
  {
   "cell_type": "markdown",
   "metadata": {},
   "source": [
    "### Intergenerational mobility in Galton's height data"
   ]
  },
  {
   "cell_type": "code",
   "execution_count": 77,
   "metadata": {},
   "outputs": [],
   "source": [
    "per_step = 0.2\n",
    "step_percentile = list()\n",
    "\n",
    "percent_groups = per_step + np.arange(0, 1, per_step)\n",
    "num_groups = len(percent_groups)\n",
    "\n",
    "for par_group_num in range(num_groups):  # parent group loop\n",
    "    \n",
    "    bins = list(np.zeros(num_groups))\n",
    "\n",
    "\n",
    "    percentile_low = percent_groups[par_group_num] - per_step  # parent percentiles\n",
    "    percentile_high = percent_groups[par_group_num]\n",
    "    \n",
    "    count_of_offspring = 0\n",
    "    for i in range(N):\n",
    "        if st.norm.ppf(percentile_low) <= parent[i] < st.norm.ppf(percentile_high):\n",
    "            count_of_offspring += 1\n",
    "            for off_group_num in range(num_groups):\n",
    "                if st.norm.ppf(percent_groups[off_group_num] - per_step) <= offspring[i] \\\n",
    "                < st.norm.ppf(percent_groups[off_group_num]):\n",
    "                    bins[off_group_num] += 1  # add to the bin \n",
    "    \n",
    "    for bin_num in range(num_groups):\n",
    "        bins[bin_num] /= count_of_offspring\n",
    "    \n",
    "    step_percentile.append(bins)\n",
    "    \n",
    "# in the transposed one, the bins represent offspring \n",
    "transposed_step_percentile = [[] for group_num in range(num_groups)]\n",
    "\n",
    "for parent_bin_num in range(num_groups):\n",
    "    for offspring_num in range(num_groups):\n",
    "        to_append = step_percentile[parent_bin_num][offspring_num]\n",
    "        transposed_step_percentile[offspring_num].append(to_append)"
   ]
  },
  {
   "cell_type": "code",
   "execution_count": 78,
   "metadata": {},
   "outputs": [],
   "source": [
    "# imp.reload(tree)"
   ]
  },
  {
   "cell_type": "code",
   "execution_count": 79,
   "metadata": {},
   "outputs": [
    {
     "data": {
      "image/png": "[encoded data removed]",
      "text/plain": [
       "<Figure size 576x396 with 1 Axes>"
      ]
     },
     "metadata": {},
     "output_type": "display_data"
    }
   ],
   "source": [
    "tree.plot_mobility(transposed_step_percentile)"
   ]
  },
  {
   "cell_type": "markdown",
   "metadata": {},
   "source": [
    "R^2 of 0.81 between Galton's data and the proposed model. (Correlations are calculated in the correlation sheet.)"
   ]
  },
  {
   "cell_type": "code",
   "execution_count": null,
   "metadata": {},
   "outputs": [],
   "source": []
  },
  {
   "cell_type": "code",
   "execution_count": null,
   "metadata": {},
   "outputs": [],
   "source": []
  },
  {
   "cell_type": "code",
   "execution_count": null,
   "metadata": {},
   "outputs": [],
   "source": []
  },
  {
   "cell_type": "code",
   "execution_count": 80,
   "metadata": {},
   "outputs": [
    {
     "data": {
      "text/html": [
       "<div>\n",
       "<style scoped>\n",
       "    .dataframe tbody tr th:only-of-type {\n",
       "        vertical-align: middle;\n",
       "    }\n",
       "\n",
       "    .dataframe tbody tr th {\n",
       "        vertical-align: top;\n",
       "    }\n",
       "\n",
       "    .dataframe thead th {\n",
       "        text-align: right;\n",
       "    }\n",
       "</style>\n",
       "<table border=\"1\" class=\"dataframe\">\n",
       "  <thead>\n",
       "    <tr style=\"text-align: right;\">\n",
       "      <th></th>\n",
       "      <th>Family</th>\n",
       "      <th>Father</th>\n",
       "      <th>Mother</th>\n",
       "      <th>Gender</th>\n",
       "      <th>Height</th>\n",
       "      <th>Kids</th>\n",
       "      <th>NormHeight</th>\n",
       "    </tr>\n",
       "  </thead>\n",
       "  <tbody>\n",
       "    <tr>\n",
       "      <td>0</td>\n",
       "      <td>1</td>\n",
       "      <td>78.5</td>\n",
       "      <td>67.0</td>\n",
       "      <td>M</td>\n",
       "      <td>73.2</td>\n",
       "      <td>4</td>\n",
       "      <td>1.509041</td>\n",
       "    </tr>\n",
       "    <tr>\n",
       "      <td>1</td>\n",
       "      <td>1</td>\n",
       "      <td>78.5</td>\n",
       "      <td>67.0</td>\n",
       "      <td>F</td>\n",
       "      <td>69.2</td>\n",
       "      <td>4</td>\n",
       "      <td>2.147322</td>\n",
       "    </tr>\n",
       "    <tr>\n",
       "      <td>2</td>\n",
       "      <td>1</td>\n",
       "      <td>78.5</td>\n",
       "      <td>67.0</td>\n",
       "      <td>F</td>\n",
       "      <td>69.0</td>\n",
       "      <td>4</td>\n",
       "      <td>2.062945</td>\n",
       "    </tr>\n",
       "    <tr>\n",
       "      <td>3</td>\n",
       "      <td>1</td>\n",
       "      <td>78.5</td>\n",
       "      <td>67.0</td>\n",
       "      <td>F</td>\n",
       "      <td>69.0</td>\n",
       "      <td>4</td>\n",
       "      <td>2.062945</td>\n",
       "    </tr>\n",
       "    <tr>\n",
       "      <td>4</td>\n",
       "      <td>2</td>\n",
       "      <td>75.5</td>\n",
       "      <td>66.5</td>\n",
       "      <td>M</td>\n",
       "      <td>73.5</td>\n",
       "      <td>4</td>\n",
       "      <td>1.623040</td>\n",
       "    </tr>\n",
       "  </tbody>\n",
       "</table>\n",
       "</div>"
      ],
      "text/plain": [
       "  Family  Father  Mother Gender  Height  Kids  NormHeight\n",
       "0      1    78.5    67.0      M    73.2     4    1.509041\n",
       "1      1    78.5    67.0      F    69.2     4    2.147322\n",
       "2      1    78.5    67.0      F    69.0     4    2.062945\n",
       "3      1    78.5    67.0      F    69.0     4    2.062945\n",
       "4      2    75.5    66.5      M    73.5     4    1.623040"
      ]
     },
     "execution_count": 80,
     "metadata": {},
     "output_type": "execute_result"
    }
   ],
   "source": [
    "galton.head()"
   ]
  },
  {
   "cell_type": "code",
   "execution_count": 81,
   "metadata": {},
   "outputs": [],
   "source": [
    "# for row in galton.groupby(['Family'], sort=False).NormHeight.mean():\n",
    "#     print(row)"
   ]
  },
  {
   "cell_type": "code",
   "execution_count": null,
   "metadata": {},
   "outputs": [],
   "source": []
  },
  {
   "cell_type": "code",
   "execution_count": null,
   "metadata": {},
   "outputs": [],
   "source": []
  },
  {
   "cell_type": "markdown",
   "metadata": {},
   "source": [
    "### One offspring distribution"
   ]
  },
  {
   "cell_type": "code",
   "execution_count": 216,
   "metadata": {},
   "outputs": [],
   "source": [
    "family_ids = galton.Family.unique().tolist()"
   ]
  },
  {
   "cell_type": "code",
   "execution_count": 217,
   "metadata": {},
   "outputs": [],
   "source": [
    "heights_by_family = list()\n",
    "for family_id in family_ids:\n",
    "    heights_by_family.append(np.array(galton.loc[galton.Family == \\\n",
    "                                                 family_id].NormHeight.tolist()))"
   ]
  },
  {
   "cell_type": "code",
   "execution_count": 218,
   "metadata": {},
   "outputs": [],
   "source": [
    "mean_heights_by_family = galton.groupby(['Family'], sort=False).NormHeight.mean().tolist()"
   ]
  },
  {
   "cell_type": "code",
   "execution_count": 219,
   "metadata": {},
   "outputs": [],
   "source": [
    "adj_heights_by_family = heights_by_family.copy()"
   ]
  },
  {
   "cell_type": "code",
   "execution_count": 220,
   "metadata": {},
   "outputs": [
    {
     "data": {
      "image/png": "[encoded data removed]",
      "text/plain": [
       "<Figure size 576x396 with 1 Axes>"
      ]
     },
     "metadata": {},
     "output_type": "display_data"
    }
   ],
   "source": [
    "for i in range(len(heights_by_family)):\n",
    "    adj_heights_by_family[i] -= mean_heights_by_family[i]\n",
    "\n",
    "for one_offspring_dist in adj_heights_by_family:\n",
    "    plt.hist(one_offspring_dist, alpha=0.6)\n",
    "#     sns.distplot(one_offspring_dist)\n",
    "#     plt.show()"
   ]
  },
  {
   "cell_type": "code",
   "execution_count": null,
   "metadata": {},
   "outputs": [],
   "source": []
  },
  {
   "cell_type": "markdown",
   "metadata": {},
   "source": [
    "### Tanner method to normalize heights\n",
    "In this method, we simply add to female heights the difference between the average male height and the average female height. We do this separately for parents and adult children. "
   ]
  },
  {
   "cell_type": "code",
   "execution_count": 173,
   "metadata": {},
   "outputs": [],
   "source": [
    "galton_tanner = galton.copy()"
   ]
  },
  {
   "cell_type": "code",
   "execution_count": 174,
   "metadata": {},
   "outputs": [],
   "source": [
    "galton_tanner.drop(columns='NormHeight', inplace=True)"
   ]
  },
  {
   "cell_type": "code",
   "execution_count": 175,
   "metadata": {},
   "outputs": [
    {
     "data": {
      "text/plain": [
       "69.23285077950997"
      ]
     },
     "execution_count": 175,
     "metadata": {},
     "output_type": "execute_result"
    }
   ],
   "source": [
    "galton_tanner.Father.mean()"
   ]
  },
  {
   "cell_type": "code",
   "execution_count": 176,
   "metadata": {},
   "outputs": [
    {
     "data": {
      "text/plain": [
       "64.08440979955456"
      ]
     },
     "execution_count": 176,
     "metadata": {},
     "output_type": "execute_result"
    }
   ],
   "source": [
    "galton_tanner.Mother.mean()"
   ]
  },
  {
   "cell_type": "code",
   "execution_count": 177,
   "metadata": {},
   "outputs": [],
   "source": [
    "mother_adj = galton_tanner.Father.mean() - galton_tanner.Mother.mean()"
   ]
  },
  {
   "cell_type": "code",
   "execution_count": 178,
   "metadata": {},
   "outputs": [
    {
     "data": {
      "text/plain": [
       "5.14844097995541"
      ]
     },
     "execution_count": 178,
     "metadata": {},
     "output_type": "execute_result"
    }
   ],
   "source": [
    "mother_adj"
   ]
  },
  {
   "cell_type": "code",
   "execution_count": 179,
   "metadata": {},
   "outputs": [],
   "source": [
    "galton_tanner['Mid_parental'] = (galton_tanner.Father + (galton_tanner.Mother + mother_adj)) / 2"
   ]
  },
  {
   "cell_type": "code",
   "execution_count": 180,
   "metadata": {},
   "outputs": [
    {
     "data": {
      "text/plain": [
       "69.22881720430114"
      ]
     },
     "execution_count": 180,
     "metadata": {},
     "output_type": "execute_result"
    }
   ],
   "source": [
    "galton_tanner.loc[galton_tanner.Gender == 'M'].Height.mean()"
   ]
  },
  {
   "cell_type": "code",
   "execution_count": 181,
   "metadata": {},
   "outputs": [
    {
     "data": {
      "text/plain": [
       "64.11016166281759"
      ]
     },
     "execution_count": 181,
     "metadata": {},
     "output_type": "execute_result"
    }
   ],
   "source": [
    "galton_tanner.loc[galton_tanner.Gender == 'F'].Height.mean()"
   ]
  },
  {
   "cell_type": "code",
   "execution_count": 182,
   "metadata": {},
   "outputs": [],
   "source": [
    "daughter_adj = galton_tanner.loc[galton_tanner.Gender == 'M'].Height.mean() - \\\n",
    "               galton_tanner.loc[galton_tanner.Gender == 'F'].Height.mean()"
   ]
  },
  {
   "cell_type": "code",
   "execution_count": 183,
   "metadata": {},
   "outputs": [
    {
     "data": {
      "text/plain": [
       "5.118655541483548"
      ]
     },
     "execution_count": 183,
     "metadata": {},
     "output_type": "execute_result"
    }
   ],
   "source": [
    "daughter_adj"
   ]
  },
  {
   "cell_type": "code",
   "execution_count": null,
   "metadata": {},
   "outputs": [],
   "source": []
  },
  {
   "cell_type": "code",
   "execution_count": 184,
   "metadata": {},
   "outputs": [],
   "source": [
    "def tanner_adj_offspring(row):\n",
    "    if row.Gender == 'F':\n",
    "        return row.Height + daughter_adj\n",
    "    elif row.Gender == 'M':\n",
    "        return row.Height"
   ]
  },
  {
   "cell_type": "code",
   "execution_count": 185,
   "metadata": {},
   "outputs": [],
   "source": [
    "galton_tanner['Norm_height'] = galton_tanner.apply(tanner_offspring, axis='columns')"
   ]
  },
  {
   "cell_type": "code",
   "execution_count": 186,
   "metadata": {},
   "outputs": [],
   "source": [
    "galton_tanner['Mother_adj'] = galton_tanner.Mother + mother_adj"
   ]
  },
  {
   "cell_type": "code",
   "execution_count": null,
   "metadata": {},
   "outputs": [],
   "source": []
  },
  {
   "cell_type": "code",
   "execution_count": 187,
   "metadata": {},
   "outputs": [],
   "source": [
    "comb_parents = np.array(galton_tanner.Father.tolist() + galton_tanner.Mother_adj.tolist())"
   ]
  },
  {
   "cell_type": "code",
   "execution_count": 188,
   "metadata": {},
   "outputs": [
    {
     "data": {
      "image/png": "[encoded data removed]",
      "text/plain": [
       "<Figure size 576x396 with 1 Axes>"
      ]
     },
     "metadata": {},
     "output_type": "display_data"
    }
   ],
   "source": [
    "sns.distplot(comb_parents, label='Tanner Parent Heights')\n",
    "sns.distplot(galton_tanner.Norm_height, label='Tanner Offspring Heights')\n",
    "plt.legend()\n",
    "plt.xlabel('Normalized Heights')\n",
    "plt.show()"
   ]
  },
  {
   "cell_type": "code",
   "execution_count": 189,
   "metadata": {},
   "outputs": [
    {
     "data": {
      "text/plain": [
       "69.22881720430071"
      ]
     },
     "execution_count": 189,
     "metadata": {},
     "output_type": "execute_result"
    }
   ],
   "source": [
    "galton_tanner.Norm_height.mean()"
   ]
  },
  {
   "cell_type": "code",
   "execution_count": 190,
   "metadata": {},
   "outputs": [
    {
     "data": {
      "text/plain": [
       "69.23285077951"
      ]
     },
     "execution_count": 190,
     "metadata": {},
     "output_type": "execute_result"
    }
   ],
   "source": [
    "comb_parents.mean()"
   ]
  },
  {
   "cell_type": "code",
   "execution_count": 191,
   "metadata": {},
   "outputs": [
    {
     "name": "stdout",
     "output_type": "stream",
     "text": [
      "0.00583%\n"
     ]
    }
   ],
   "source": [
    "percent_error(approx=galton_tanner.Norm_height.mean(), exact=comb_parents.mean(), digits=5)"
   ]
  },
  {
   "cell_type": "code",
   "execution_count": 192,
   "metadata": {},
   "outputs": [
    {
     "data": {
      "text/plain": [
       "2.5076225239399097"
      ]
     },
     "execution_count": 192,
     "metadata": {},
     "output_type": "execute_result"
    }
   ],
   "source": [
    "galton_tanner.Norm_height.std()"
   ]
  },
  {
   "cell_type": "code",
   "execution_count": 193,
   "metadata": {},
   "outputs": [
    {
     "data": {
      "text/plain": [
       "2.3887033038745313"
      ]
     },
     "execution_count": 193,
     "metadata": {},
     "output_type": "execute_result"
    }
   ],
   "source": [
    "comb_parents.std()"
   ]
  },
  {
   "cell_type": "code",
   "execution_count": 194,
   "metadata": {},
   "outputs": [
    {
     "name": "stdout",
     "output_type": "stream",
     "text": [
      "4.9784%\n"
     ]
    }
   ],
   "source": [
    "percent_error(approx=galton_tanner.Norm_height.std(), exact=comb_parents.std(), digits=4)"
   ]
  },
  {
   "cell_type": "code",
   "execution_count": null,
   "metadata": {},
   "outputs": [],
   "source": []
  },
  {
   "cell_type": "code",
   "execution_count": 195,
   "metadata": {},
   "outputs": [
    {
     "data": {
      "text/plain": [
       "2.370319602944069"
      ]
     },
     "execution_count": 195,
     "metadata": {},
     "output_type": "execute_result"
    }
   ],
   "source": [
    "galton_tanner.loc[galton_tanner.Gender == 'F'].Height.std()"
   ]
  },
  {
   "cell_type": "code",
   "execution_count": 196,
   "metadata": {},
   "outputs": [
    {
     "data": {
      "text/plain": [
       "2.3070252210018625"
      ]
     },
     "execution_count": 196,
     "metadata": {},
     "output_type": "execute_result"
    }
   ],
   "source": [
    "galton_tanner.Mother.std()"
   ]
  },
  {
   "cell_type": "code",
   "execution_count": 197,
   "metadata": {},
   "outputs": [
    {
     "data": {
      "text/plain": [
       "2.6315942826866188"
      ]
     },
     "execution_count": 197,
     "metadata": {},
     "output_type": "execute_result"
    }
   ],
   "source": [
    "galton_tanner.loc[galton_tanner.Gender == 'M'].Height.std()"
   ]
  },
  {
   "cell_type": "code",
   "execution_count": 198,
   "metadata": {},
   "outputs": [
    {
     "data": {
      "text/plain": [
       "2.4702558107108206"
      ]
     },
     "execution_count": 198,
     "metadata": {},
     "output_type": "execute_result"
    }
   ],
   "source": [
    "galton_tanner.Father.std()"
   ]
  },
  {
   "cell_type": "code",
   "execution_count": null,
   "metadata": {},
   "outputs": [],
   "source": []
  },
  {
   "cell_type": "code",
   "execution_count": null,
   "metadata": {},
   "outputs": [],
   "source": []
  },
  {
   "cell_type": "code",
   "execution_count": null,
   "metadata": {},
   "outputs": [],
   "source": []
  },
  {
   "cell_type": "code",
   "execution_count": null,
   "metadata": {},
   "outputs": [],
   "source": []
  },
  {
   "cell_type": "code",
   "execution_count": 199,
   "metadata": {},
   "outputs": [
    {
     "data": {
      "text/html": [
       "<div>\n",
       "<style scoped>\n",
       "    .dataframe tbody tr th:only-of-type {\n",
       "        vertical-align: middle;\n",
       "    }\n",
       "\n",
       "    .dataframe tbody tr th {\n",
       "        vertical-align: top;\n",
       "    }\n",
       "\n",
       "    .dataframe thead th {\n",
       "        text-align: right;\n",
       "    }\n",
       "</style>\n",
       "<table border=\"1\" class=\"dataframe\">\n",
       "  <thead>\n",
       "    <tr style=\"text-align: right;\">\n",
       "      <th></th>\n",
       "      <th>Father</th>\n",
       "      <th>Mother</th>\n",
       "      <th>Height</th>\n",
       "      <th>Kids</th>\n",
       "      <th>Mid_parental</th>\n",
       "      <th>Norm_height</th>\n",
       "      <th>Mother_adj</th>\n",
       "    </tr>\n",
       "  </thead>\n",
       "  <tbody>\n",
       "    <tr>\n",
       "      <td>Father</td>\n",
       "      <td>1.000000</td>\n",
       "      <td>0.073665</td>\n",
       "      <td>0.275355</td>\n",
       "      <td>-0.160023</td>\n",
       "      <td>0.753908</td>\n",
       "      <td>0.421136</td>\n",
       "      <td>0.073665</td>\n",
       "    </tr>\n",
       "    <tr>\n",
       "      <td>Mother</td>\n",
       "      <td>0.073665</td>\n",
       "      <td>1.000000</td>\n",
       "      <td>0.201655</td>\n",
       "      <td>-0.020030</td>\n",
       "      <td>0.710731</td>\n",
       "      <td>0.324476</td>\n",
       "      <td>1.000000</td>\n",
       "    </tr>\n",
       "    <tr>\n",
       "      <td>Height</td>\n",
       "      <td>0.275355</td>\n",
       "      <td>0.201655</td>\n",
       "      <td>1.000000</td>\n",
       "      <td>-0.126910</td>\n",
       "      <td>0.327074</td>\n",
       "      <td>0.699883</td>\n",
       "      <td>0.201655</td>\n",
       "    </tr>\n",
       "    <tr>\n",
       "      <td>Kids</td>\n",
       "      <td>-0.160023</td>\n",
       "      <td>-0.020030</td>\n",
       "      <td>-0.126910</td>\n",
       "      <td>1.000000</td>\n",
       "      <td>-0.126072</td>\n",
       "      <td>-0.116775</td>\n",
       "      <td>-0.020030</td>\n",
       "    </tr>\n",
       "    <tr>\n",
       "      <td>Mid_parental</td>\n",
       "      <td>0.753908</td>\n",
       "      <td>0.710731</td>\n",
       "      <td>0.327074</td>\n",
       "      <td>-0.126072</td>\n",
       "      <td>1.000000</td>\n",
       "      <td>0.510816</td>\n",
       "      <td>0.710731</td>\n",
       "    </tr>\n",
       "    <tr>\n",
       "      <td>Norm_height</td>\n",
       "      <td>0.421136</td>\n",
       "      <td>0.324476</td>\n",
       "      <td>0.699883</td>\n",
       "      <td>-0.116775</td>\n",
       "      <td>0.510816</td>\n",
       "      <td>1.000000</td>\n",
       "      <td>0.324476</td>\n",
       "    </tr>\n",
       "    <tr>\n",
       "      <td>Mother_adj</td>\n",
       "      <td>0.073665</td>\n",
       "      <td>1.000000</td>\n",
       "      <td>0.201655</td>\n",
       "      <td>-0.020030</td>\n",
       "      <td>0.710731</td>\n",
       "      <td>0.324476</td>\n",
       "      <td>1.000000</td>\n",
       "    </tr>\n",
       "  </tbody>\n",
       "</table>\n",
       "</div>"
      ],
      "text/plain": [
       "                Father    Mother    Height      Kids  Mid_parental  \\\n",
       "Father        1.000000  0.073665  0.275355 -0.160023      0.753908   \n",
       "Mother        0.073665  1.000000  0.201655 -0.020030      0.710731   \n",
       "Height        0.275355  0.201655  1.000000 -0.126910      0.327074   \n",
       "Kids         -0.160023 -0.020030 -0.126910  1.000000     -0.126072   \n",
       "Mid_parental  0.753908  0.710731  0.327074 -0.126072      1.000000   \n",
       "Norm_height   0.421136  0.324476  0.699883 -0.116775      0.510816   \n",
       "Mother_adj    0.073665  1.000000  0.201655 -0.020030      0.710731   \n",
       "\n",
       "              Norm_height  Mother_adj  \n",
       "Father           0.421136    0.073665  \n",
       "Mother           0.324476    1.000000  \n",
       "Height           0.699883    0.201655  \n",
       "Kids            -0.116775   -0.020030  \n",
       "Mid_parental     0.510816    0.710731  \n",
       "Norm_height      1.000000    0.324476  \n",
       "Mother_adj       0.324476    1.000000  "
      ]
     },
     "execution_count": 199,
     "metadata": {},
     "output_type": "execute_result"
    }
   ],
   "source": [
    "galton_tanner.corr()"
   ]
  },
  {
   "cell_type": "code",
   "execution_count": 200,
   "metadata": {},
   "outputs": [],
   "source": [
    "tanner_r = 0.510816"
   ]
  },
  {
   "cell_type": "code",
   "execution_count": 201,
   "metadata": {},
   "outputs": [
    {
     "name": "stdout",
     "output_type": "stream",
     "text": [
      "6.135857461024499\n",
      "2.6851558148468047\n"
     ]
    }
   ],
   "source": [
    "print(galton_tanner.Kids.mean())\n",
    "print(galton_tanner.Kids.std())"
   ]
  },
  {
   "cell_type": "code",
   "execution_count": null,
   "metadata": {},
   "outputs": [],
   "source": []
  },
  {
   "cell_type": "code",
   "execution_count": 202,
   "metadata": {},
   "outputs": [],
   "source": [
    "mid_parental_mean = galton_tanner.Mid_parental.mean()\n",
    "mid_parental_sd = galton_tanner.Mid_parental.std()\n",
    "norm_height_mean = galton_tanner.Norm_height.mean()\n",
    "norm_height_sd = galton_tanner.Norm_height.std()"
   ]
  },
  {
   "cell_type": "code",
   "execution_count": null,
   "metadata": {},
   "outputs": [],
   "source": []
  },
  {
   "cell_type": "code",
   "execution_count": 203,
   "metadata": {},
   "outputs": [],
   "source": [
    "galton_tanner['Pred_Norm_height'] = ((tanner_r * ((galton_tanner.Mid_parental - \\\n",
    "                                        mid_parental_mean) / mid_parental_sd)) \\\n",
    "                                        * norm_height_sd) + norm_height_mean"
   ]
  },
  {
   "cell_type": "code",
   "execution_count": 204,
   "metadata": {},
   "outputs": [
    {
     "data": {
      "text/html": [
       "<div>\n",
       "<style scoped>\n",
       "    .dataframe tbody tr th:only-of-type {\n",
       "        vertical-align: middle;\n",
       "    }\n",
       "\n",
       "    .dataframe tbody tr th {\n",
       "        vertical-align: top;\n",
       "    }\n",
       "\n",
       "    .dataframe thead th {\n",
       "        text-align: right;\n",
       "    }\n",
       "</style>\n",
       "<table border=\"1\" class=\"dataframe\">\n",
       "  <thead>\n",
       "    <tr style=\"text-align: right;\">\n",
       "      <th></th>\n",
       "      <th>Family</th>\n",
       "      <th>Father</th>\n",
       "      <th>Mother</th>\n",
       "      <th>Gender</th>\n",
       "      <th>Height</th>\n",
       "      <th>Kids</th>\n",
       "      <th>Mid_parental</th>\n",
       "      <th>Norm_height</th>\n",
       "      <th>Mother_adj</th>\n",
       "      <th>Pred_Norm_height</th>\n",
       "    </tr>\n",
       "  </thead>\n",
       "  <tbody>\n",
       "    <tr>\n",
       "      <td>0</td>\n",
       "      <td>1</td>\n",
       "      <td>78.5</td>\n",
       "      <td>67.0</td>\n",
       "      <td>M</td>\n",
       "      <td>73.2</td>\n",
       "      <td>4</td>\n",
       "      <td>75.32422</td>\n",
       "      <td>73.200000</td>\n",
       "      <td>72.148441</td>\n",
       "      <td>73.684896</td>\n",
       "    </tr>\n",
       "    <tr>\n",
       "      <td>1</td>\n",
       "      <td>1</td>\n",
       "      <td>78.5</td>\n",
       "      <td>67.0</td>\n",
       "      <td>F</td>\n",
       "      <td>69.2</td>\n",
       "      <td>4</td>\n",
       "      <td>75.32422</td>\n",
       "      <td>74.318656</td>\n",
       "      <td>72.148441</td>\n",
       "      <td>73.684896</td>\n",
       "    </tr>\n",
       "    <tr>\n",
       "      <td>2</td>\n",
       "      <td>1</td>\n",
       "      <td>78.5</td>\n",
       "      <td>67.0</td>\n",
       "      <td>F</td>\n",
       "      <td>69.0</td>\n",
       "      <td>4</td>\n",
       "      <td>75.32422</td>\n",
       "      <td>74.118656</td>\n",
       "      <td>72.148441</td>\n",
       "      <td>73.684896</td>\n",
       "    </tr>\n",
       "    <tr>\n",
       "      <td>3</td>\n",
       "      <td>1</td>\n",
       "      <td>78.5</td>\n",
       "      <td>67.0</td>\n",
       "      <td>F</td>\n",
       "      <td>69.0</td>\n",
       "      <td>4</td>\n",
       "      <td>75.32422</td>\n",
       "      <td>74.118656</td>\n",
       "      <td>72.148441</td>\n",
       "      <td>73.684896</td>\n",
       "    </tr>\n",
       "    <tr>\n",
       "      <td>4</td>\n",
       "      <td>2</td>\n",
       "      <td>75.5</td>\n",
       "      <td>66.5</td>\n",
       "      <td>M</td>\n",
       "      <td>73.5</td>\n",
       "      <td>4</td>\n",
       "      <td>73.57422</td>\n",
       "      <td>73.500000</td>\n",
       "      <td>71.648441</td>\n",
       "      <td>72.404702</td>\n",
       "    </tr>\n",
       "    <tr>\n",
       "      <td>...</td>\n",
       "      <td>...</td>\n",
       "      <td>...</td>\n",
       "      <td>...</td>\n",
       "      <td>...</td>\n",
       "      <td>...</td>\n",
       "      <td>...</td>\n",
       "      <td>...</td>\n",
       "      <td>...</td>\n",
       "      <td>...</td>\n",
       "      <td>...</td>\n",
       "    </tr>\n",
       "    <tr>\n",
       "      <td>893</td>\n",
       "      <td>136A</td>\n",
       "      <td>68.5</td>\n",
       "      <td>65.0</td>\n",
       "      <td>M</td>\n",
       "      <td>68.5</td>\n",
       "      <td>8</td>\n",
       "      <td>69.32422</td>\n",
       "      <td>68.500000</td>\n",
       "      <td>70.148441</td>\n",
       "      <td>69.295658</td>\n",
       "    </tr>\n",
       "    <tr>\n",
       "      <td>894</td>\n",
       "      <td>136A</td>\n",
       "      <td>68.5</td>\n",
       "      <td>65.0</td>\n",
       "      <td>M</td>\n",
       "      <td>67.7</td>\n",
       "      <td>8</td>\n",
       "      <td>69.32422</td>\n",
       "      <td>67.700000</td>\n",
       "      <td>70.148441</td>\n",
       "      <td>69.295658</td>\n",
       "    </tr>\n",
       "    <tr>\n",
       "      <td>895</td>\n",
       "      <td>136A</td>\n",
       "      <td>68.5</td>\n",
       "      <td>65.0</td>\n",
       "      <td>F</td>\n",
       "      <td>64.0</td>\n",
       "      <td>8</td>\n",
       "      <td>69.32422</td>\n",
       "      <td>69.118656</td>\n",
       "      <td>70.148441</td>\n",
       "      <td>69.295658</td>\n",
       "    </tr>\n",
       "    <tr>\n",
       "      <td>896</td>\n",
       "      <td>136A</td>\n",
       "      <td>68.5</td>\n",
       "      <td>65.0</td>\n",
       "      <td>F</td>\n",
       "      <td>63.5</td>\n",
       "      <td>8</td>\n",
       "      <td>69.32422</td>\n",
       "      <td>68.618656</td>\n",
       "      <td>70.148441</td>\n",
       "      <td>69.295658</td>\n",
       "    </tr>\n",
       "    <tr>\n",
       "      <td>897</td>\n",
       "      <td>136A</td>\n",
       "      <td>68.5</td>\n",
       "      <td>65.0</td>\n",
       "      <td>F</td>\n",
       "      <td>63.0</td>\n",
       "      <td>8</td>\n",
       "      <td>69.32422</td>\n",
       "      <td>68.118656</td>\n",
       "      <td>70.148441</td>\n",
       "      <td>69.295658</td>\n",
       "    </tr>\n",
       "  </tbody>\n",
       "</table>\n",
       "<p>898 rows × 10 columns</p>\n",
       "</div>"
      ],
      "text/plain": [
       "    Family  Father  Mother Gender  Height  Kids  Mid_parental  Norm_height  \\\n",
       "0        1    78.5    67.0      M    73.2     4      75.32422    73.200000   \n",
       "1        1    78.5    67.0      F    69.2     4      75.32422    74.318656   \n",
       "2        1    78.5    67.0      F    69.0     4      75.32422    74.118656   \n",
       "3        1    78.5    67.0      F    69.0     4      75.32422    74.118656   \n",
       "4        2    75.5    66.5      M    73.5     4      73.57422    73.500000   \n",
       "..     ...     ...     ...    ...     ...   ...           ...          ...   \n",
       "893   136A    68.5    65.0      M    68.5     8      69.32422    68.500000   \n",
       "894   136A    68.5    65.0      M    67.7     8      69.32422    67.700000   \n",
       "895   136A    68.5    65.0      F    64.0     8      69.32422    69.118656   \n",
       "896   136A    68.5    65.0      F    63.5     8      69.32422    68.618656   \n",
       "897   136A    68.5    65.0      F    63.0     8      69.32422    68.118656   \n",
       "\n",
       "     Mother_adj  Pred_Norm_height  \n",
       "0     72.148441         73.684896  \n",
       "1     72.148441         73.684896  \n",
       "2     72.148441         73.684896  \n",
       "3     72.148441         73.684896  \n",
       "4     71.648441         72.404702  \n",
       "..          ...               ...  \n",
       "893   70.148441         69.295658  \n",
       "894   70.148441         69.295658  \n",
       "895   70.148441         69.295658  \n",
       "896   70.148441         69.295658  \n",
       "897   70.148441         69.295658  \n",
       "\n",
       "[898 rows x 10 columns]"
      ]
     },
     "execution_count": 204,
     "metadata": {},
     "output_type": "execute_result"
    }
   ],
   "source": [
    "galton_tanner"
   ]
  },
  {
   "cell_type": "code",
   "execution_count": 213,
   "metadata": {},
   "outputs": [],
   "source": [
    "tanner_preds = galton_tanner.groupby('Family', sort=False).Pred_Norm_height.mean().tolist()"
   ]
  },
  {
   "cell_type": "code",
   "execution_count": 229,
   "metadata": {},
   "outputs": [],
   "source": [
    "tanner_adj_norm_heights = list()\n",
    "for family_id in family_ids:\n",
    "    tanner_adj_norm_heights.append(np.array(galton_tanner.loc[galton_tanner.Family == \\\n",
    "                                                 family_id].Norm_height.tolist()))\n",
    "\n",
    "for i in range(len(tanner_adj_norm_heights)):\n",
    "    tanner_adj_norm_heights[i] -= tanner_preds[i]\n",
    "\n",
    "one_dists = tanner_adj_norm_heights"
   ]
  },
  {
   "cell_type": "markdown",
   "metadata": {},
   "source": [
    "About the average for each"
   ]
  },
  {
   "cell_type": "code",
   "execution_count": 232,
   "metadata": {},
   "outputs": [],
   "source": [
    "stds_avg = list()\n",
    "for one_dist in one_dists:\n",
    "    stds_avg.append(one_dist.std())"
   ]
  },
  {
   "cell_type": "code",
   "execution_count": 238,
   "metadata": {},
   "outputs": [
    {
     "data": {
      "text/plain": [
       "1.2652153308973186"
      ]
     },
     "execution_count": 238,
     "metadata": {},
     "output_type": "execute_result"
    }
   ],
   "source": [
    "sum(stds_avg) / len(stds_avg)"
   ]
  },
  {
   "cell_type": "code",
   "execution_count": 246,
   "metadata": {},
   "outputs": [
    {
     "data": {
      "text/plain": [
       "2.3887033038745313"
      ]
     },
     "execution_count": 246,
     "metadata": {},
     "output_type": "execute_result"
    }
   ],
   "source": [
    "comb_parents.std()"
   ]
  },
  {
   "cell_type": "code",
   "execution_count": 247,
   "metadata": {},
   "outputs": [
    {
     "data": {
      "text/plain": [
       "0.5296661702795448"
      ]
     },
     "execution_count": 247,
     "metadata": {},
     "output_type": "execute_result"
    }
   ],
   "source": [
    "1.2652153308973186 / 2.3887033038745313"
   ]
  },
  {
   "cell_type": "markdown",
   "metadata": {},
   "source": [
    "About zero for each"
   ]
  },
  {
   "cell_type": "code",
   "execution_count": 256,
   "metadata": {},
   "outputs": [],
   "source": [
    "stds_0 = list()\n",
    "for one_dist in one_dists:\n",
    "    sum_sq = 0\n",
    "    n = len(one_dist)\n",
    "    for i in range(n):\n",
    "        sum_sq += one_dist[i] ** 2\n",
    "    stds_0.append((sum_sq / n) ** 0.5)"
   ]
  },
  {
   "cell_type": "code",
   "execution_count": 257,
   "metadata": {},
   "outputs": [
    {
     "data": {
      "text/plain": [
       "1.950707031967024"
      ]
     },
     "execution_count": 257,
     "metadata": {},
     "output_type": "execute_result"
    }
   ],
   "source": [
    "sum(stds_0) / len(stds_0)"
   ]
  },
  {
   "cell_type": "code",
   "execution_count": 258,
   "metadata": {},
   "outputs": [
    {
     "data": {
      "text/plain": [
       "0.8166384786268486"
      ]
     },
     "execution_count": 258,
     "metadata": {},
     "output_type": "execute_result"
    }
   ],
   "source": [
    "1.950707031967024 / 2.3887033038745313"
   ]
  },
  {
   "cell_type": "markdown",
   "metadata": {},
   "source": [
    "Combined one distributions"
   ]
  },
  {
   "cell_type": "code",
   "execution_count": 259,
   "metadata": {},
   "outputs": [
    {
     "data": {
      "image/png": "[encoded data removed]",
      "text/plain": [
       "<Figure size 576x396 with 1 Axes>"
      ]
     },
     "metadata": {},
     "output_type": "display_data"
    }
   ],
   "source": [
    "for one_dist in one_dists:\n",
    "    plt.hist(one_dist, alpha=0.6)"
   ]
  },
  {
   "cell_type": "code",
   "execution_count": 265,
   "metadata": {},
   "outputs": [],
   "source": [
    "all_one_dists = list()\n",
    "for one_dist in one_dists:\n",
    "    for i in range(len(one_dist)):\n",
    "        all_one_dists.append(one_dist[i])\n",
    "all_one_dists = np.array(all_one_dists)"
   ]
  },
  {
   "cell_type": "code",
   "execution_count": null,
   "metadata": {},
   "outputs": [],
   "source": []
  },
  {
   "cell_type": "code",
   "execution_count": 270,
   "metadata": {},
   "outputs": [
    {
     "data": {
      "text/plain": [
       "<matplotlib.axes._subplots.AxesSubplot at 0x1a1b8cb450>"
      ]
     },
     "execution_count": 270,
     "metadata": {},
     "output_type": "execute_result"
    },
    {
     "data": {
      "image/png": "[encoded data removed]",
      "text/plain": [
       "<Figure size 576x396 with 1 Axes>"
      ]
     },
     "metadata": {},
     "output_type": "display_data"
    }
   ],
   "source": [
    "sns.distplot(all_one_dists, kde=False)"
   ]
  },
  {
   "cell_type": "code",
   "execution_count": 267,
   "metadata": {},
   "outputs": [
    {
     "data": {
      "text/plain": [
       "8.567183092615711e-13"
      ]
     },
     "execution_count": 267,
     "metadata": {},
     "output_type": "execute_result"
    }
   ],
   "source": [
    "all_one_dists.mean()"
   ]
  },
  {
   "cell_type": "code",
   "execution_count": 271,
   "metadata": {},
   "outputs": [
    {
     "data": {
      "text/plain": [
       "2.1545779011942026"
      ]
     },
     "execution_count": 271,
     "metadata": {},
     "output_type": "execute_result"
    }
   ],
   "source": [
    "one_sd = all_one_dists.std()\n",
    "one_sd"
   ]
  },
  {
   "cell_type": "code",
   "execution_count": 269,
   "metadata": {},
   "outputs": [
    {
     "data": {
      "text/plain": [
       "0.9019864031248368"
      ]
     },
     "execution_count": 269,
     "metadata": {},
     "output_type": "execute_result"
    }
   ],
   "source": [
    "2.1545779011942026 / 2.3887033038745313"
   ]
  },
  {
   "cell_type": "code",
   "execution_count": null,
   "metadata": {},
   "outputs": [],
   "source": []
  },
  {
   "cell_type": "code",
   "execution_count": 272,
   "metadata": {},
   "outputs": [],
   "source": [
    "def f_norm(x, mean, sd):\n",
    "    return (1 / (sd * ((2 * np.pi) ** 0.5))) * np.exp(-1 * ((((x - mean) / sd) ** 2) / 2))"
   ]
  },
  {
   "cell_type": "code",
   "execution_count": 280,
   "metadata": {},
   "outputs": [],
   "source": [
    "x = np.arange(-10, 10, 0.1)"
   ]
  },
  {
   "cell_type": "code",
   "execution_count": 281,
   "metadata": {},
   "outputs": [],
   "source": [
    "one_norm = list()\n",
    "for x_value in x:\n",
    "    one_norm.append(f_norm(x_value, 0, one_sd))\n",
    "one_norm = np.array(one_norm)"
   ]
  },
  {
   "cell_type": "code",
   "execution_count": 403,
   "metadata": {},
   "outputs": [
    {
     "data": {
      "image/png": "[encoded data removed]",
      "text/plain": [
       "<Figure size 640x480 with 1 Axes>"
      ]
     },
     "metadata": {},
     "output_type": "display_data"
    }
   ],
   "source": [
    "figures_file = 'figures/' \n",
    "plt.hist(all_one_dists, bins=20, alpha=0.4, density=True, label='Galton Data') # , color='grey'\n",
    "# plt.scatter(x, one_norm, s=6, alpha=0.6, label='Normal Distribution', color='grey') \n",
    "plt.plot(x, one_norm, alpha=0.8, label='Normal Distribution', color='grey')\n",
    "plt.ylim(0, 0.21)\n",
    "plt.xlabel('Difference from expected height (in)', fontsize=12)\n",
    "# plt.grid()\n",
    "hfont = {'fontname':'Helvetica'}\n",
    "plt.ylabel('Proportion', fontsize=12)\n",
    "# plt.tight_layout()\n",
    "plt.yticks(np.arange(0, 0.25, 0.05))\n",
    "plt.legend(fontsize=10)\n",
    "plt.savefig(figures_file + 'galton_tanner_one_dists.png', dpi=300)\n",
    "plt.show()"
   ]
  },
  {
   "cell_type": "code",
   "execution_count": 348,
   "metadata": {},
   "outputs": [],
   "source": [
    "plt.style.use('default')"
   ]
  },
  {
   "cell_type": "code",
   "execution_count": null,
   "metadata": {},
   "outputs": [],
   "source": []
  },
  {
   "cell_type": "code",
   "execution_count": null,
   "metadata": {},
   "outputs": [],
   "source": []
  },
  {
   "cell_type": "code",
   "execution_count": null,
   "metadata": {},
   "outputs": [],
   "source": []
  },
  {
   "cell_type": "code",
   "execution_count": null,
   "metadata": {},
   "outputs": [],
   "source": []
  },
  {
   "cell_type": "code",
   "execution_count": null,
   "metadata": {},
   "outputs": [],
   "source": []
  }
 ],
 "metadata": {
  "kernelspec": {
   "display_name": "Python 3",
   "language": "python",
   "name": "python3"
  },
  "language_info": {
   "codemirror_mode": {
    "name": "ipython",
    "version": 3
   },
   "file_extension": ".py",
   "mimetype": "text/x-python",
   "name": "python",
   "nbconvert_exporter": "python",
   "pygments_lexer": "ipython3",
   "version": "3.7.4"
  }
 },
 "nbformat": 4,
 "nbformat_minor": 2
}
