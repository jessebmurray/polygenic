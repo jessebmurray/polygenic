{
 "cells": [
  {
   "cell_type": "code",
   "execution_count": 1,
   "metadata": {},
   "outputs": [],
   "source": [
    "import tree_problem_0 as tree\n",
    "\n",
    "# Do this so that I can update the import file and then run this cell again so it updates here\n",
    "import imp \n",
    "imp.reload(tree)\n",
    "\n",
    "import matplotlib.pyplot as plt"
   ]
  },
  {
   "cell_type": "code",
   "execution_count": 2,
   "metadata": {},
   "outputs": [],
   "source": [
    "# Set the global variables, these will be explained\n",
    "number_of_iterations = 500 # this number is related to the number of operations - if slow, then reduce this\n",
    "z_range = 8\n",
    "r = 0.5 # mean regression coefficient\n",
    "r_s = 0.9 # standard deviation regression coefficient\n",
    "mean_gen = 0\n",
    "sd_gen = 1\n",
    "k_val = -2\n",
    "percent_step = 0.33\n",
    "\n",
    "# plotting\n",
    "fig_size = (12, 8)"
   ]
  },
  {
   "cell_type": "code",
   "execution_count": 3,
   "metadata": {},
   "outputs": [],
   "source": [
    "# Let's redefine the parent distribution with the normal number of iterations to make things more accurate\n",
    "parent_distribution = tree.normal_distribution(number_of_iterations, z_range, mean_gen, sd_gen)"
   ]
  },
  {
   "cell_type": "code",
   "execution_count": 7,
   "metadata": {},
   "outputs": [],
   "source": [
    "total_offspring_distribution1 = tree.final_superimposed_distribution_all_area_adj(parent_distribution, 1, r_s)"
   ]
  },
  {
   "cell_type": "code",
   "execution_count": 4,
   "metadata": {},
   "outputs": [],
   "source": [
    "one_distribution = tree.one_offspring_distribution(parent_distribution, 250, r, r_s)\n",
    "many_distribuitons = tree.offspring_distributions(parent_distribution, r, r_s)"
   ]
  },
  {
   "cell_type": "code",
   "execution_count": 5,
   "metadata": {},
   "outputs": [],
   "source": [
    "super_distribution = tree.superimposed_offspring_distribution(many_distribuitons)\n",
    "super_par_inc_distribution = tree.normalized_superimposed_distribution_to_parent_increment(super_distribution)"
   ]
  },
  {
   "cell_type": "code",
   "execution_count": 9,
   "metadata": {},
   "outputs": [
    {
     "name": "stdout",
     "output_type": "stream",
     "text": [
      "PARENT\n",
      "[-4.0, 0.00013383022576488537, ['increment', 0.016], ['number', 500], ['bound', 8], ['mean', 0], ['sd', 1]] \n",
      "\n",
      "ONE OFFSPRING\n",
      "[-4.0, 9.083420214879031e-06, ['increment', 0.016], ['number', 500], ['bound', 8.0], ['mean', 0.0], ['sd', 0.9], ['parent mean', 0]]\n",
      "(add parent mean to the end)\n",
      "\n",
      "MANY OFFSPRING\n",
      "[-6.0, 3.047148015626119e-09, ['increment', 0.016], ['number', 500], ['bound', 8.0], ['mean', -2.0], ['sd', 0.9], ['parent mean', 0], ['parent area', 0.999938775960854]]\n",
      "(add parent area to the end)\n",
      "\n",
      "SUPER DISTRIBUTION\n",
      "[-6.0, 3.047148015626119e-09, ['increment', 0.008], ['parent increment', 0.016], ['parent mean', 0], ['parent area', 0.999938775960854], ['parent number', 500], ['parent bound', 8.0]]\n",
      "(reorder things, add parent number and parent bound)\n",
      "\n",
      "SUPER PARENT INC DISTRIBUTION\n",
      "[-6.0, 3.047148015626119e-09, ['increment', 0.016], ['parent increment', 0.016], ['parent mean', 0], ['parent area', 0.999938775960854], ['parent number', 500], ['parent bound', 8.0]]\n",
      "(do nothing)\n",
      "\n",
      "TOTAL\n",
      "[-8.0, 4.875478034610425e-11, ['increment', 0.016], ['parent increment', 0.016], ['parent mean', 0], ['parent area', 0.999938775960854], ['parent number', 500], ['parent bound', 8.0]]\n",
      "(do nothing)\n",
      "\n"
     ]
    }
   ],
   "source": [
    "print('PARENT')\n",
    "print(parent_distribution[0], '\\n')\n",
    "# parent_dist_len = len(parent_distribution)\n",
    "# print(parent_dist_len)\n",
    "# parent_mid_index = (parent_dist_len - 1) // 2\n",
    "# print(parent_distribution[parent_mid_index])\n",
    "\n",
    "print('ONE OFFSPRING')\n",
    "print(one_distribution[0])\n",
    "print('(add parent mean to the end)\\n')\n",
    "\n",
    "print('MANY OFFSPRING')\n",
    "print(many_distribuitons[0][0])\n",
    "print('(add parent area to the end)\\n')\n",
    "\n",
    "print('SUPER DISTRIBUTION')\n",
    "print(super_distribution[0])\n",
    "print('(reorder things, add parent number and parent bound)\\n')\n",
    "\n",
    "print('SUPER PARENT INC DISTRIBUTION')\n",
    "print(super_par_inc_distribution[0])\n",
    "print('(do nothing)\\n')\n",
    "\n",
    "print('TOTAL')\n",
    "print(total_offspring_distribution1[0])\n",
    "print('(do nothing)\\n')\n",
    "\n",
    "# offspring_dist_len = len(total_offspring_distribution1)\n",
    "# print(offspring_dist_len)\n",
    "# offspring_mid_index = (offspring_dist_len - 1) // 2\n",
    "# offspring_mean = total_offspring_distribution1[offspring_mid_index][0]\n",
    "# print(offspring_mean)"
   ]
  },
  {
   "cell_type": "code",
   "execution_count": 10,
   "metadata": {},
   "outputs": [],
   "source": [
    "\n",
    "# We need the first row of the total_offspring_distribution to look like the first row of the parent distribution\n",
    "# Increment is good\n",
    "\n",
    "# To keep the increment and number the same, the bound must bee the same. We kind of need the number to be the same\n",
    "# because that's related to the number of operations and we can't have a system that slows down over generations\n",
    "\n",
    "# We'll copy and paste the number and bound from the parent distribution, which means we have to add it on "
   ]
  },
  {
   "cell_type": "code",
   "execution_count": 19,
   "metadata": {},
   "outputs": [
    {
     "data": {
      "text/plain": [
       "True"
      ]
     },
     "execution_count": 19,
     "metadata": {},
     "output_type": "execute_result"
    }
   ],
   "source": [
    "def final_super_to_parent(final_super_distribution):\n",
    "    \n",
    "    super_bound = final_super_distribution[-1][0] - final_super_distribution[0][0]\n",
    "    super_parent_bound = final_super_distribution[0][7][1]\n",
    "    \n",
    "    if super_bound > super_parent_bound:\n",
    "        return True\n",
    "    return super_parent_bound\n",
    "\n",
    "\n",
    "\n",
    "final_super_to_parent(total_offspring_distribution1)"
   ]
  },
  {
   "cell_type": "code",
   "execution_count": null,
   "metadata": {},
   "outputs": [],
   "source": []
  }
 ],
 "metadata": {
  "kernelspec": {
   "display_name": "Python 3",
   "language": "python",
   "name": "python3"
  },
  "language_info": {
   "codemirror_mode": {
    "name": "ipython",
    "version": 3
   },
   "file_extension": ".py",
   "mimetype": "text/x-python",
   "name": "python",
   "nbconvert_exporter": "python",
   "pygments_lexer": "ipython3",
   "version": "3.7.4"
  }
 },
 "nbformat": 4,
 "nbformat_minor": 2
}
